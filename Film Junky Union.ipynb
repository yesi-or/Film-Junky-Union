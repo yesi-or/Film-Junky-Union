{
 "cells": [
  {
   "cell_type": "markdown",
   "metadata": {},
   "source": [
    "# Descripcipción del proyecto"
   ]
  },
  {
   "cell_type": "markdown",
   "metadata": {},
   "source": [
    "Film Junky Union, una nueva comunidad vanguardista para los aficionados de las películas clásicas, está desarrollando un sistema para filtrar y categorizar reseñas de películas. Tu objetivo es entrenar un modelo para detectar las críticas negativas de forma automática. Para lograrlo, utilizarás un conjunto de datos de reseñas de películas de IMDB con leyendas de polaridad para construir un modelo para clasificar las reseñas positivas y negativas. Este deberá alcanzar un valor F1 de al menos 0.85."
   ]
  },
  {
   "cell_type": "markdown",
   "metadata": {},
   "source": [
    "## Inicialización"
   ]
  },
  {
   "cell_type": "code",
   "execution_count": 1,
   "metadata": {},
   "outputs": [],
   "source": [
    "import math\n",
    "\n",
    "import numpy as np\n",
    "import pandas as pd\n",
    "\n",
    "import re\n",
    "import matplotlib\n",
    "import matplotlib.pyplot as plt\n",
    "import matplotlib.dates as mdates\n",
    "import seaborn as sns\n",
    "\n",
    "from tqdm.auto import tqdm"
   ]
  },
  {
   "cell_type": "code",
   "execution_count": 2,
   "metadata": {},
   "outputs": [],
   "source": [
    "%matplotlib inline\n",
    "%config InlineBackend.figure_format = 'png'\n",
    "# la siguiente línea proporciona gráficos de mejor calidad en pantallas HiDPI\n",
    "# %config InlineBackend.figure_format = 'retina'\n",
    "\n",
    "plt.style.use('seaborn')"
   ]
  },
  {
   "cell_type": "code",
   "execution_count": 3,
   "metadata": {},
   "outputs": [],
   "source": [
    "# esto es para usar progress_apply, puedes leer más en https://pypi.org/project/tqdm/#pandas-integration\n",
    "tqdm.pandas()"
   ]
  },
  {
   "cell_type": "markdown",
   "metadata": {},
   "source": [
    "## Cargar datos"
   ]
  },
  {
   "cell_type": "code",
   "execution_count": 4,
   "metadata": {},
   "outputs": [
    {
     "name": "stdout",
     "output_type": "stream",
     "text": [
      "<class 'pandas.core.frame.DataFrame'>\n",
      "RangeIndex: 47331 entries, 0 to 47330\n",
      "Data columns (total 17 columns):\n",
      " #   Column           Non-Null Count  Dtype  \n",
      "---  ------           --------------  -----  \n",
      " 0   tconst           47331 non-null  object \n",
      " 1   title_type       47331 non-null  object \n",
      " 2   primary_title    47331 non-null  object \n",
      " 3   original_title   47331 non-null  object \n",
      " 4   start_year       47331 non-null  int64  \n",
      " 5   end_year         47331 non-null  object \n",
      " 6   runtime_minutes  47331 non-null  object \n",
      " 7   is_adult         47331 non-null  int64  \n",
      " 8   genres           47331 non-null  object \n",
      " 9   average_rating   47329 non-null  float64\n",
      " 10  votes            47329 non-null  Int64  \n",
      " 11  review           47331 non-null  object \n",
      " 12  rating           47331 non-null  int64  \n",
      " 13  sp               47331 non-null  object \n",
      " 14  pos              47331 non-null  int64  \n",
      " 15  ds_part          47331 non-null  object \n",
      " 16  idx              47331 non-null  int64  \n",
      "dtypes: Int64(1), float64(1), int64(5), object(10)\n",
      "memory usage: 6.2+ MB\n"
     ]
    },
    {
     "data": {
      "text/html": [
       "<div>\n",
       "<style scoped>\n",
       "    .dataframe tbody tr th:only-of-type {\n",
       "        vertical-align: middle;\n",
       "    }\n",
       "\n",
       "    .dataframe tbody tr th {\n",
       "        vertical-align: top;\n",
       "    }\n",
       "\n",
       "    .dataframe thead th {\n",
       "        text-align: right;\n",
       "    }\n",
       "</style>\n",
       "<table border=\"1\" class=\"dataframe\">\n",
       "  <thead>\n",
       "    <tr style=\"text-align: right;\">\n",
       "      <th></th>\n",
       "      <th>start_year</th>\n",
       "      <th>is_adult</th>\n",
       "      <th>average_rating</th>\n",
       "      <th>votes</th>\n",
       "      <th>rating</th>\n",
       "      <th>pos</th>\n",
       "      <th>idx</th>\n",
       "    </tr>\n",
       "  </thead>\n",
       "  <tbody>\n",
       "    <tr>\n",
       "      <th>count</th>\n",
       "      <td>47331.000000</td>\n",
       "      <td>47331.000000</td>\n",
       "      <td>47329.000000</td>\n",
       "      <td>4.732900e+04</td>\n",
       "      <td>47331.000000</td>\n",
       "      <td>47331.000000</td>\n",
       "      <td>47331.000000</td>\n",
       "    </tr>\n",
       "    <tr>\n",
       "      <th>mean</th>\n",
       "      <td>1989.631235</td>\n",
       "      <td>0.001732</td>\n",
       "      <td>5.998278</td>\n",
       "      <td>2.556292e+04</td>\n",
       "      <td>5.484608</td>\n",
       "      <td>0.498954</td>\n",
       "      <td>6279.697999</td>\n",
       "    </tr>\n",
       "    <tr>\n",
       "      <th>std</th>\n",
       "      <td>19.600364</td>\n",
       "      <td>0.041587</td>\n",
       "      <td>1.494289</td>\n",
       "      <td>8.367004e+04</td>\n",
       "      <td>3.473109</td>\n",
       "      <td>0.500004</td>\n",
       "      <td>3605.702545</td>\n",
       "    </tr>\n",
       "    <tr>\n",
       "      <th>min</th>\n",
       "      <td>1894.000000</td>\n",
       "      <td>0.000000</td>\n",
       "      <td>1.400000</td>\n",
       "      <td>9.000000e+00</td>\n",
       "      <td>1.000000</td>\n",
       "      <td>0.000000</td>\n",
       "      <td>0.000000</td>\n",
       "    </tr>\n",
       "    <tr>\n",
       "      <th>25%</th>\n",
       "      <td>1982.000000</td>\n",
       "      <td>0.000000</td>\n",
       "      <td>5.100000</td>\n",
       "      <td>8.270000e+02</td>\n",
       "      <td>2.000000</td>\n",
       "      <td>0.000000</td>\n",
       "      <td>3162.000000</td>\n",
       "    </tr>\n",
       "    <tr>\n",
       "      <th>50%</th>\n",
       "      <td>1998.000000</td>\n",
       "      <td>0.000000</td>\n",
       "      <td>6.300000</td>\n",
       "      <td>3.197000e+03</td>\n",
       "      <td>4.000000</td>\n",
       "      <td>0.000000</td>\n",
       "      <td>6299.000000</td>\n",
       "    </tr>\n",
       "    <tr>\n",
       "      <th>75%</th>\n",
       "      <td>2004.000000</td>\n",
       "      <td>0.000000</td>\n",
       "      <td>7.100000</td>\n",
       "      <td>1.397400e+04</td>\n",
       "      <td>9.000000</td>\n",
       "      <td>1.000000</td>\n",
       "      <td>9412.000000</td>\n",
       "    </tr>\n",
       "    <tr>\n",
       "      <th>max</th>\n",
       "      <td>2010.000000</td>\n",
       "      <td>1.000000</td>\n",
       "      <td>9.700000</td>\n",
       "      <td>1.739448e+06</td>\n",
       "      <td>10.000000</td>\n",
       "      <td>1.000000</td>\n",
       "      <td>12499.000000</td>\n",
       "    </tr>\n",
       "  </tbody>\n",
       "</table>\n",
       "</div>"
      ],
      "text/plain": [
       "         start_year      is_adult  average_rating         votes        rating  \\\n",
       "count  47331.000000  47331.000000    47329.000000  4.732900e+04  47331.000000   \n",
       "mean    1989.631235      0.001732        5.998278  2.556292e+04      5.484608   \n",
       "std       19.600364      0.041587        1.494289  8.367004e+04      3.473109   \n",
       "min     1894.000000      0.000000        1.400000  9.000000e+00      1.000000   \n",
       "25%     1982.000000      0.000000        5.100000  8.270000e+02      2.000000   \n",
       "50%     1998.000000      0.000000        6.300000  3.197000e+03      4.000000   \n",
       "75%     2004.000000      0.000000        7.100000  1.397400e+04      9.000000   \n",
       "max     2010.000000      1.000000        9.700000  1.739448e+06     10.000000   \n",
       "\n",
       "                pos           idx  \n",
       "count  47331.000000  47331.000000  \n",
       "mean       0.498954   6279.697999  \n",
       "std        0.500004   3605.702545  \n",
       "min        0.000000      0.000000  \n",
       "25%        0.000000   3162.000000  \n",
       "50%        0.000000   6299.000000  \n",
       "75%        1.000000   9412.000000  \n",
       "max        1.000000  12499.000000  "
      ]
     },
     "execution_count": 4,
     "metadata": {},
     "output_type": "execute_result"
    }
   ],
   "source": [
    "#Abre y examina el archivo de datos\n",
    "df_reviews = pd.read_csv('/datasets/imdb_reviews.tsv', sep='\\t', dtype={'votes': 'Int64'})\n",
    "df_reviews.info()\n",
    "df_reviews.describe()"
   ]
  },
  {
   "cell_type": "code",
   "execution_count": 5,
   "metadata": {},
   "outputs": [
    {
     "data": {
      "text/html": [
       "<div>\n",
       "<style scoped>\n",
       "    .dataframe tbody tr th:only-of-type {\n",
       "        vertical-align: middle;\n",
       "    }\n",
       "\n",
       "    .dataframe tbody tr th {\n",
       "        vertical-align: top;\n",
       "    }\n",
       "\n",
       "    .dataframe thead th {\n",
       "        text-align: right;\n",
       "    }\n",
       "</style>\n",
       "<table border=\"1\" class=\"dataframe\">\n",
       "  <thead>\n",
       "    <tr style=\"text-align: right;\">\n",
       "      <th></th>\n",
       "      <th>tconst</th>\n",
       "      <th>title_type</th>\n",
       "      <th>primary_title</th>\n",
       "      <th>original_title</th>\n",
       "      <th>start_year</th>\n",
       "      <th>end_year</th>\n",
       "      <th>runtime_minutes</th>\n",
       "      <th>is_adult</th>\n",
       "      <th>genres</th>\n",
       "      <th>average_rating</th>\n",
       "      <th>votes</th>\n",
       "      <th>review</th>\n",
       "      <th>rating</th>\n",
       "      <th>sp</th>\n",
       "      <th>pos</th>\n",
       "      <th>ds_part</th>\n",
       "      <th>idx</th>\n",
       "    </tr>\n",
       "  </thead>\n",
       "  <tbody>\n",
       "    <tr>\n",
       "      <th>29034</th>\n",
       "      <td>tt0202470</td>\n",
       "      <td>movie</td>\n",
       "      <td>Rock Star</td>\n",
       "      <td>Rock Star</td>\n",
       "      <td>2001</td>\n",
       "      <td>\\N</td>\n",
       "      <td>105</td>\n",
       "      <td>0</td>\n",
       "      <td>Drama,Music</td>\n",
       "      <td>6.3</td>\n",
       "      <td>40182</td>\n",
       "      <td>This is the second movie about 1985, the other...</td>\n",
       "      <td>10</td>\n",
       "      <td>pos</td>\n",
       "      <td>1</td>\n",
       "      <td>test</td>\n",
       "      <td>2015</td>\n",
       "    </tr>\n",
       "    <tr>\n",
       "      <th>43838</th>\n",
       "      <td>tt0080298</td>\n",
       "      <td>tvMiniSeries</td>\n",
       "      <td>To Serve Them All My Days</td>\n",
       "      <td>To Serve Them All My Days</td>\n",
       "      <td>1980</td>\n",
       "      <td>1981</td>\n",
       "      <td>673</td>\n",
       "      <td>0</td>\n",
       "      <td>Drama</td>\n",
       "      <td>8.5</td>\n",
       "      <td>519</td>\n",
       "      <td>After reading so many glowing reports of 'To S...</td>\n",
       "      <td>3</td>\n",
       "      <td>neg</td>\n",
       "      <td>0</td>\n",
       "      <td>test</td>\n",
       "      <td>8425</td>\n",
       "    </tr>\n",
       "    <tr>\n",
       "      <th>38115</th>\n",
       "      <td>tt0087451</td>\n",
       "      <td>movie</td>\n",
       "      <td>The Ice Pirates</td>\n",
       "      <td>The Ice Pirates</td>\n",
       "      <td>1984</td>\n",
       "      <td>\\N</td>\n",
       "      <td>91</td>\n",
       "      <td>0</td>\n",
       "      <td>Action,Adventure,Comedy</td>\n",
       "      <td>5.7</td>\n",
       "      <td>9624</td>\n",
       "      <td>I can't knock this film too terribly, because ...</td>\n",
       "      <td>3</td>\n",
       "      <td>neg</td>\n",
       "      <td>0</td>\n",
       "      <td>test</td>\n",
       "      <td>9350</td>\n",
       "    </tr>\n",
       "    <tr>\n",
       "      <th>4124</th>\n",
       "      <td>tt0449303</td>\n",
       "      <td>movie</td>\n",
       "      <td>Beauty in Trouble</td>\n",
       "      <td>Kráska v nesnázích</td>\n",
       "      <td>2006</td>\n",
       "      <td>\\N</td>\n",
       "      <td>110</td>\n",
       "      <td>0</td>\n",
       "      <td>Comedy,Drama</td>\n",
       "      <td>6.8</td>\n",
       "      <td>871</td>\n",
       "      <td>This is a film with a lot of potential, well d...</td>\n",
       "      <td>3</td>\n",
       "      <td>neg</td>\n",
       "      <td>0</td>\n",
       "      <td>test</td>\n",
       "      <td>3161</td>\n",
       "    </tr>\n",
       "    <tr>\n",
       "      <th>41465</th>\n",
       "      <td>tt0485601</td>\n",
       "      <td>movie</td>\n",
       "      <td>The Secret of Kells</td>\n",
       "      <td>The Secret of Kells</td>\n",
       "      <td>2009</td>\n",
       "      <td>\\N</td>\n",
       "      <td>71</td>\n",
       "      <td>0</td>\n",
       "      <td>Adventure,Animation,Family</td>\n",
       "      <td>7.6</td>\n",
       "      <td>30156</td>\n",
       "      <td>I would not have known about this film if not ...</td>\n",
       "      <td>8</td>\n",
       "      <td>pos</td>\n",
       "      <td>1</td>\n",
       "      <td>train</td>\n",
       "      <td>11665</td>\n",
       "    </tr>\n",
       "  </tbody>\n",
       "</table>\n",
       "</div>"
      ],
      "text/plain": [
       "          tconst    title_type              primary_title  \\\n",
       "29034  tt0202470         movie                  Rock Star   \n",
       "43838  tt0080298  tvMiniSeries  To Serve Them All My Days   \n",
       "38115  tt0087451         movie            The Ice Pirates   \n",
       "4124   tt0449303         movie          Beauty in Trouble   \n",
       "41465  tt0485601         movie        The Secret of Kells   \n",
       "\n",
       "                  original_title  start_year end_year runtime_minutes  \\\n",
       "29034                  Rock Star        2001       \\N             105   \n",
       "43838  To Serve Them All My Days        1980     1981             673   \n",
       "38115            The Ice Pirates        1984       \\N              91   \n",
       "4124          Kráska v nesnázích        2006       \\N             110   \n",
       "41465        The Secret of Kells        2009       \\N              71   \n",
       "\n",
       "       is_adult                      genres  average_rating  votes  \\\n",
       "29034         0                 Drama,Music             6.3  40182   \n",
       "43838         0                       Drama             8.5    519   \n",
       "38115         0     Action,Adventure,Comedy             5.7   9624   \n",
       "4124          0                Comedy,Drama             6.8    871   \n",
       "41465         0  Adventure,Animation,Family             7.6  30156   \n",
       "\n",
       "                                                  review  rating   sp  pos  \\\n",
       "29034  This is the second movie about 1985, the other...      10  pos    1   \n",
       "43838  After reading so many glowing reports of 'To S...       3  neg    0   \n",
       "38115  I can't knock this film too terribly, because ...       3  neg    0   \n",
       "4124   This is a film with a lot of potential, well d...       3  neg    0   \n",
       "41465  I would not have known about this film if not ...       8  pos    1   \n",
       "\n",
       "      ds_part    idx  \n",
       "29034    test   2015  \n",
       "43838    test   8425  \n",
       "38115    test   9350  \n",
       "4124     test   3161  \n",
       "41465   train  11665  "
      ]
     },
     "execution_count": 5,
     "metadata": {},
     "output_type": "execute_result"
    }
   ],
   "source": [
    "df_reviews.sample(5)"
   ]
  },
  {
   "cell_type": "code",
   "execution_count": 6,
   "metadata": {},
   "outputs": [
    {
     "data": {
      "text/plain": [
       "0"
      ]
     },
     "execution_count": 6,
     "metadata": {},
     "output_type": "execute_result"
    }
   ],
   "source": [
    "df_reviews.duplicated().sum()"
   ]
  },
  {
   "cell_type": "code",
   "execution_count": 7,
   "metadata": {},
   "outputs": [
    {
     "data": {
      "text/plain": [
       "tconst             0\n",
       "title_type         0\n",
       "primary_title      0\n",
       "original_title     0\n",
       "start_year         0\n",
       "end_year           0\n",
       "runtime_minutes    0\n",
       "is_adult           0\n",
       "genres             0\n",
       "average_rating     2\n",
       "votes              2\n",
       "review             0\n",
       "rating             0\n",
       "sp                 0\n",
       "pos                0\n",
       "ds_part            0\n",
       "idx                0\n",
       "dtype: int64"
      ]
     },
     "execution_count": 7,
     "metadata": {},
     "output_type": "execute_result"
    }
   ],
   "source": [
    "df_reviews.isna().sum()"
   ]
  },
  {
   "cell_type": "code",
   "execution_count": 8,
   "metadata": {},
   "outputs": [],
   "source": [
    "df_reviews.fillna(0,inplace=True)"
   ]
  },
  {
   "cell_type": "code",
   "execution_count": 9,
   "metadata": {},
   "outputs": [],
   "source": [
    "df_reviews = df_reviews.replace('\\\\N', 0)"
   ]
  },
  {
   "cell_type": "code",
   "execution_count": 10,
   "metadata": {},
   "outputs": [],
   "source": [
    "df_reviews['end_year'] = df_reviews['end_year'].astype('int64')\n",
    "df_reviews['runtime_minutes'] = df_reviews['runtime_minutes'].astype('int64')"
   ]
  },
  {
   "cell_type": "code",
   "execution_count": 11,
   "metadata": {},
   "outputs": [
    {
     "name": "stdout",
     "output_type": "stream",
     "text": [
      "<class 'pandas.core.frame.DataFrame'>\n",
      "RangeIndex: 47331 entries, 0 to 47330\n",
      "Data columns (total 17 columns):\n",
      " #   Column           Non-Null Count  Dtype  \n",
      "---  ------           --------------  -----  \n",
      " 0   tconst           47331 non-null  object \n",
      " 1   title_type       47331 non-null  object \n",
      " 2   primary_title    47331 non-null  object \n",
      " 3   original_title   47331 non-null  object \n",
      " 4   start_year       47331 non-null  int64  \n",
      " 5   end_year         47331 non-null  int64  \n",
      " 6   runtime_minutes  47331 non-null  int64  \n",
      " 7   is_adult         47331 non-null  int64  \n",
      " 8   genres           47331 non-null  object \n",
      " 9   average_rating   47331 non-null  float64\n",
      " 10  votes            47331 non-null  Int64  \n",
      " 11  review           47331 non-null  object \n",
      " 12  rating           47331 non-null  int64  \n",
      " 13  sp               47331 non-null  object \n",
      " 14  pos              47331 non-null  int64  \n",
      " 15  ds_part          47331 non-null  object \n",
      " 16  idx              47331 non-null  int64  \n",
      "dtypes: Int64(1), float64(1), int64(7), object(8)\n",
      "memory usage: 6.2+ MB\n"
     ]
    }
   ],
   "source": [
    "df_reviews.info()"
   ]
  },
  {
   "cell_type": "markdown",
   "metadata": {},
   "source": [
    "## EDA"
   ]
  },
  {
   "cell_type": "markdown",
   "metadata": {},
   "source": [
    "Veamos el número de películas y reseñas a lo largo de los años."
   ]
  },
  {
   "cell_type": "code",
   "execution_count": 12,
   "metadata": {},
   "outputs": [
    {
     "data": {
      "image/png": "[encoded data removed]",
      "text/plain": [
       "<Figure size 1600x800 with 3 Axes>"
      ]
     },
     "metadata": {},
     "output_type": "display_data"
    }
   ],
   "source": [
    "fig, axs = plt.subplots(2, 1, figsize=(16, 8))\n",
    "\n",
    "ax = axs[0]\n",
    "\n",
    "dft1 = df_reviews[['tconst', 'start_year']].drop_duplicates() \\\n",
    "    ['start_year'].value_counts().sort_index()\n",
    "dft1 = dft1.reindex(index=np.arange(dft1.index.min(), max(dft1.index.max(), 2021))).fillna(0)\n",
    "dft1.plot(kind='bar', ax=ax)\n",
    "ax.set_title('Número de películas a lo largo de los años')\n",
    "\n",
    "ax = axs[1]\n",
    "\n",
    "dft2 = df_reviews.groupby(['start_year', 'pos'])['pos'].count().unstack()\n",
    "dft2 = dft2.reindex(index=np.arange(dft2.index.min(), max(dft2.index.max(), 2021))).fillna(0)\n",
    "\n",
    "dft2.plot(kind='bar', stacked=True, label='#reviews (neg, pos)', ax=ax)\n",
    "\n",
    "dft2 = df_reviews['start_year'].value_counts().sort_index()\n",
    "dft2 = dft2.reindex(index=np.arange(dft2.index.min(), max(dft2.index.max(), 2021))).fillna(0)\n",
    "dft3 = (dft2/dft1).fillna(0)\n",
    "axt = ax.twinx()\n",
    "dft3.reset_index(drop=True).rolling(5).mean().plot(color='orange', label='reviews per movie (avg over 5 years)', ax=axt)\n",
    "\n",
    "lines, labels = axt.get_legend_handles_labels()\n",
    "ax.legend(lines, labels, loc='upper left')\n",
    "\n",
    "ax.set_title('Número de reseñas a lo largo de los años')\n",
    "\n",
    "fig.tight_layout()"
   ]
  },
  {
   "cell_type": "markdown",
   "metadata": {},
   "source": [
    "Veamos la distribución del número de reseñas por película con el conteo exacto y KDE (solo para saber cómo puede diferir del conteo exacto)"
   ]
  },
  {
   "cell_type": "code",
   "execution_count": 13,
   "metadata": {},
   "outputs": [
    {
     "data": {
      "image/png": "[encoded data removed]",
      "text/plain": [
       "<Figure size 1600x500 with 2 Axes>"
      ]
     },
     "metadata": {},
     "output_type": "display_data"
    }
   ],
   "source": [
    "fig, axs = plt.subplots(1, 2, figsize=(16, 5))\n",
    "\n",
    "ax = axs[0]\n",
    "dft = df_reviews.groupby('tconst')['review'].count() \\\n",
    "    .value_counts() \\\n",
    "    .sort_index()\n",
    "dft.plot.bar(ax=ax)\n",
    "ax.set_title('Gráfico de barras de #Reseñas por película')\n",
    "\n",
    "ax = axs[1]\n",
    "dft = df_reviews.groupby('tconst')['review'].count()\n",
    "sns.kdeplot(dft, ax=ax)\n",
    "ax.set_title('Gráfico KDE de #Reseñas por película')\n",
    "\n",
    "fig.tight_layout()"
   ]
  },
  {
   "cell_type": "code",
   "execution_count": 14,
   "metadata": {},
   "outputs": [
    {
     "data": {
      "text/plain": [
       "0    23715\n",
       "1    23616\n",
       "Name: pos, dtype: int64"
      ]
     },
     "execution_count": 14,
     "metadata": {},
     "output_type": "execute_result"
    }
   ],
   "source": [
    "df_reviews['pos'].value_counts()"
   ]
  },
  {
   "cell_type": "code",
   "execution_count": 15,
   "metadata": {},
   "outputs": [
    {
     "data": {
      "image/png": "[encoded data removed]",
      "text/plain": [
       "<Figure size 1200x400 with 2 Axes>"
      ]
     },
     "metadata": {},
     "output_type": "display_data"
    }
   ],
   "source": [
    "fig, axs = plt.subplots(1, 2, figsize=(12, 4))\n",
    "\n",
    "ax = axs[0]\n",
    "dft = df_reviews.query('ds_part == \"train\"')['rating'].value_counts().sort_index()\n",
    "dft = dft.reindex(index=np.arange(min(dft.index.min(), 1), max(dft.index.max(), 11))).fillna(0)\n",
    "dft.plot.bar(ax=ax)\n",
    "ax.set_ylim([0, 5000])\n",
    "ax.set_title('El conjunto de entrenamiento: distribución de puntuaciones')\n",
    "\n",
    "ax = axs[1]\n",
    "dft = df_reviews.query('ds_part == \"test\"')['rating'].value_counts().sort_index()\n",
    "dft = dft.reindex(index=np.arange(min(dft.index.min(), 1), max(dft.index.max(), 11))).fillna(0)\n",
    "dft.plot.bar(ax=ax)\n",
    "ax.set_ylim([0, 5000])\n",
    "ax.set_title('El conjunto de prueba: distribución de puntuaciones')\n",
    "\n",
    "fig.tight_layout()"
   ]
  },
  {
   "cell_type": "markdown",
   "metadata": {},
   "source": [
    "Distribución de reseñas negativas y positivas a lo largo de los años para dos partes del conjunto de datos"
   ]
  },
  {
   "cell_type": "code",
   "execution_count": 16,
   "metadata": {},
   "outputs": [
    {
     "name": "stderr",
     "output_type": "stream",
     "text": [
      "/opt/conda/envs/python3/lib/python3.9/site-packages/seaborn/distributions.py:1666: UserWarning: Support for alternate kernels has been removed. Using Gaussian kernel.\n",
      "  warnings.warn(msg, UserWarning)\n",
      "/opt/conda/envs/python3/lib/python3.9/site-packages/seaborn/distributions.py:1666: UserWarning: Support for alternate kernels has been removed. Using Gaussian kernel.\n",
      "  warnings.warn(msg, UserWarning)\n",
      "/opt/conda/envs/python3/lib/python3.9/site-packages/seaborn/distributions.py:1666: UserWarning: Support for alternate kernels has been removed. Using Gaussian kernel.\n",
      "  warnings.warn(msg, UserWarning)\n",
      "/opt/conda/envs/python3/lib/python3.9/site-packages/seaborn/distributions.py:1666: UserWarning: Support for alternate kernels has been removed. Using Gaussian kernel.\n",
      "  warnings.warn(msg, UserWarning)\n"
     ]
    },
    {
     "data": {
      "image/png": "[encoded data removed]",
      "text/plain": [
       "<Figure size 1600x800 with 4 Axes>"
      ]
     },
     "metadata": {},
     "output_type": "display_data"
    }
   ],
   "source": [
    "fig, axs = plt.subplots(2, 2, figsize=(16, 8), gridspec_kw=dict(width_ratios=(2, 1), height_ratios=(1, 1)))\n",
    "\n",
    "ax = axs[0][0]\n",
    "\n",
    "dft = df_reviews.query('ds_part == \"train\"').groupby(['start_year', 'pos'])['pos'].count().unstack()\n",
    "dft.index = dft.index.astype('int')\n",
    "dft = dft.reindex(index=np.arange(dft.index.min(), max(dft.index.max(), 2020))).fillna(0)\n",
    "dft.plot(kind='bar', stacked=True, ax=ax)\n",
    "ax.set_title('El conjunto de entrenamiento: número de reseñas de diferentes polaridades por año')\n",
    "\n",
    "ax = axs[0][1]\n",
    "\n",
    "dft = df_reviews.query('ds_part == \"train\"').groupby(['tconst', 'pos'])['pos'].count().unstack()\n",
    "sns.kdeplot(dft[0], color='blue', label='negative', kernel='epa', ax=ax)\n",
    "sns.kdeplot(dft[1], color='green', label='positive', kernel='epa', ax=ax)\n",
    "ax.legend()\n",
    "ax.set_title('El conjunto de entrenamiento: distribución de diferentes polaridades por película')\n",
    "\n",
    "ax = axs[1][0]\n",
    "\n",
    "dft = df_reviews.query('ds_part == \"test\"').groupby(['start_year', 'pos'])['pos'].count().unstack()\n",
    "dft.index = dft.index.astype('int')\n",
    "dft = dft.reindex(index=np.arange(dft.index.min(), max(dft.index.max(), 2020))).fillna(0)\n",
    "dft.plot(kind='bar', stacked=True, ax=ax)\n",
    "ax.set_title('El conjunto de prueba: número de reseñas de diferentes polaridades por año')\n",
    "\n",
    "ax = axs[1][1]\n",
    "\n",
    "dft = df_reviews.query('ds_part == \"test\"').groupby(['tconst', 'pos'])['pos'].count().unstack()\n",
    "sns.kdeplot(dft[0], color='blue', label='negative', kernel='epa', ax=ax)\n",
    "sns.kdeplot(dft[1], color='green', label='positive', kernel='epa', ax=ax)\n",
    "ax.legend()\n",
    "ax.set_title('El conjunto de prueba: distribución de diferentes polaridades por película')\n",
    "\n",
    "fig.tight_layout()"
   ]
  },
  {
   "cell_type": "markdown",
   "metadata": {},
   "source": [
    "## Procedimiento de evaluación"
   ]
  },
  {
   "cell_type": "markdown",
   "metadata": {},
   "source": [
    "Composición de una rutina de evaluación que se pueda usar para todos los modelos en este proyecto"
   ]
  },
  {
   "cell_type": "code",
   "execution_count": 17,
   "metadata": {},
   "outputs": [],
   "source": [
    "import sklearn.metrics as metrics\n",
    "def evaluate_model(model, train_features, train_target, test_features, test_target):\n",
    "    \n",
    "    eval_stats = {}\n",
    "    \n",
    "    fig, axs = plt.subplots(1, 3, figsize=(20, 6)) \n",
    "    \n",
    "    for type, features, target in (('train', train_features, train_target), ('test', test_features, test_target)):\n",
    "        \n",
    "        eval_stats[type] = {}\n",
    "    \n",
    "        pred_target = model.predict(features)\n",
    "        pred_proba = model.predict_proba(features)[:, 1]\n",
    "        \n",
    "        # F1\n",
    "        f1_thresholds = np.arange(0, 1.01, 0.05)\n",
    "        f1_scores = [metrics.f1_score(target, pred_proba>=threshold) for threshold in f1_thresholds]\n",
    "        \n",
    "        # ROC\n",
    "        fpr, tpr, roc_thresholds = metrics.roc_curve(target, pred_proba)\n",
    "        roc_auc = metrics.roc_auc_score(target, pred_proba)    \n",
    "        eval_stats[type]['ROC AUC'] = roc_auc\n",
    "\n",
    "        # PRC\n",
    "        precision, recall, pr_thresholds = metrics.precision_recall_curve(target, pred_proba)\n",
    "        aps = metrics.average_precision_score(target, pred_proba)\n",
    "        eval_stats[type]['APS'] = aps\n",
    "        \n",
    "        if type == 'train':\n",
    "            color = 'blue'\n",
    "        else:\n",
    "            color = 'green'\n",
    "\n",
    "        # Valor F1\n",
    "        ax = axs[0]\n",
    "        max_f1_score_idx = np.argmax(f1_scores)\n",
    "        ax.plot(f1_thresholds, f1_scores, color=color, label=f'{type}, max={f1_scores[max_f1_score_idx]:.2f} @ {f1_thresholds[max_f1_score_idx]:.2f}')\n",
    "        # establecer cruces para algunos umbrales        \n",
    "        for threshold in (0.2, 0.4, 0.5, 0.6, 0.8):\n",
    "            closest_value_idx = np.argmin(np.abs(f1_thresholds-threshold))\n",
    "            marker_color = 'orange' if threshold != 0.5 else 'red'\n",
    "            ax.plot(f1_thresholds[closest_value_idx], f1_scores[closest_value_idx], color=marker_color, marker='X', markersize=7)\n",
    "        ax.set_xlim([-0.02, 1.02])    \n",
    "        ax.set_ylim([-0.02, 1.02])\n",
    "        ax.set_xlabel('threshold')\n",
    "        ax.set_ylabel('F1')\n",
    "        ax.legend(loc='lower center')\n",
    "        ax.set_title(f'Valor F1') \n",
    "\n",
    "        # ROC\n",
    "        ax = axs[1]    \n",
    "        ax.plot(fpr, tpr, color=color, label=f'{type}, ROC AUC={roc_auc:.2f}')\n",
    "        # establecer cruces para algunos umbrales        \n",
    "        for threshold in (0.2, 0.4, 0.5, 0.6, 0.8):\n",
    "            closest_value_idx = np.argmin(np.abs(roc_thresholds-threshold))\n",
    "            marker_color = 'orange' if threshold != 0.5 else 'red'            \n",
    "            ax.plot(fpr[closest_value_idx], tpr[closest_value_idx], color=marker_color, marker='X', markersize=7)\n",
    "        ax.plot([0, 1], [0, 1], color='grey', linestyle='--')\n",
    "        ax.set_xlim([-0.02, 1.02])    \n",
    "        ax.set_ylim([-0.02, 1.02])\n",
    "        ax.set_xlabel('FPR')\n",
    "        ax.set_ylabel('TPR')\n",
    "        ax.legend(loc='lower center')        \n",
    "        ax.set_title(f'Curva ROC')\n",
    "        \n",
    "        # PRC\n",
    "        ax = axs[2]\n",
    "        ax.plot(recall, precision, color=color, label=f'{type}, AP={aps:.2f}')\n",
    "        # establecer cruces para algunos umbrales        \n",
    "        for threshold in (0.2, 0.4, 0.5, 0.6, 0.8):\n",
    "            closest_value_idx = np.argmin(np.abs(pr_thresholds-threshold))\n",
    "            marker_color = 'orange' if threshold != 0.5 else 'red'\n",
    "            ax.plot(recall[closest_value_idx], precision[closest_value_idx], color=marker_color, marker='X', markersize=7)\n",
    "        ax.set_xlim([-0.02, 1.02])    \n",
    "        ax.set_ylim([-0.02, 1.02])\n",
    "        ax.set_xlabel('recall')\n",
    "        ax.set_ylabel('precision')\n",
    "        ax.legend(loc='lower center')\n",
    "        ax.set_title(f'PRC')        \n",
    "\n",
    "        eval_stats[type]['Accuracy'] = metrics.accuracy_score(target, pred_target)\n",
    "        eval_stats[type]['F1'] = metrics.f1_score(target, pred_target)\n",
    "    \n",
    "    df_eval_stats = pd.DataFrame(eval_stats)\n",
    "    df_eval_stats = df_eval_stats.round(2)\n",
    "    df_eval_stats = df_eval_stats.reindex(index=('Exactitud', 'F1', 'APS', 'ROC AUC'))\n",
    "    \n",
    "    print(df_eval_stats)\n",
    "    \n",
    "    return"
   ]
  },
  {
   "cell_type": "markdown",
   "metadata": {},
   "source": [
    "## Normalización"
   ]
  },
  {
   "cell_type": "markdown",
   "metadata": {},
   "source": [
    "Suponemos que todos los modelos a continuación aceptan textos en minúsculas y sin dígitos, signos de puntuación, etc."
   ]
  },
  {
   "cell_type": "code",
   "execution_count": 18,
   "metadata": {},
   "outputs": [
    {
     "data": {
      "text/plain": [
       "0        the pakage implies that warren beatty and gold...\n",
       "1        how the hell did they get this made presenting...\n",
       "2        there is no real story the film seems more lik...\n",
       "3        um  a serious film about troubled teens in sin...\n",
       "4        im totally agree with garryjohal from singapor...\n",
       "                               ...                        \n",
       "47326    this is another of my favorite columbos it spo...\n",
       "47327    talk about being boring i got this expecting a...\n",
       "47328    i never thought id say this about a biopic but...\n",
       "47329    spirit and chaos is an artistic biopic of miya...\n",
       "47330    ill make this brief this was a joy to watch it...\n",
       "Name: review_norm, Length: 47331, dtype: object"
      ]
     },
     "execution_count": 18,
     "metadata": {},
     "output_type": "execute_result"
    }
   ],
   "source": [
    "df_reviews['review_norm'] = df_reviews['review'].apply(lambda x: ''.join([char.lower() for char in x if char.isalpha() or char.isspace()]))\n",
    "df_reviews['review_norm']"
   ]
  },
  {
   "cell_type": "markdown",
   "metadata": {},
   "source": [
    "## División entrenamiento / prueba"
   ]
  },
  {
   "cell_type": "markdown",
   "metadata": {},
   "source": [
    "Por fortuna, todo el conjunto de datos ya está dividido en partes de entrenamiento/prueba; 'ds_part' es el indicador correspondiente."
   ]
  },
  {
   "cell_type": "code",
   "execution_count": 19,
   "metadata": {},
   "outputs": [
    {
     "name": "stdout",
     "output_type": "stream",
     "text": [
      "(23796, 18)\n",
      "(23535, 18)\n"
     ]
    }
   ],
   "source": [
    "df_reviews_train = df_reviews.query('ds_part == \"train\"').copy()\n",
    "df_reviews_test = df_reviews.query('ds_part == \"test\"').copy()\n",
    "\n",
    "train_target = df_reviews_train['pos']\n",
    "test_target = df_reviews_test['pos']\n",
    "\n",
    "print(df_reviews_train.shape)\n",
    "print(df_reviews_test.shape)"
   ]
  },
  {
   "cell_type": "markdown",
   "metadata": {},
   "source": [
    "## Trabajar con modelos"
   ]
  },
  {
   "cell_type": "markdown",
   "metadata": {},
   "source": [
    "### Modelo 0 - Constante"
   ]
  },
  {
   "cell_type": "code",
   "execution_count": 20,
   "metadata": {},
   "outputs": [],
   "source": [
    "from sklearn.dummy import DummyClassifier"
   ]
  },
  {
   "cell_type": "code",
   "execution_count": 21,
   "metadata": {},
   "outputs": [],
   "source": [
    "# Crear el DummyClassifier con la estrategia 'constant'\n",
    "dummy_clf = DummyClassifier(strategy='constant', constant=1)\n",
    "\n",
    "# Ajustar el modelo a los datos de entrenamiento\n",
    "model_dummy = dummy_clf.fit(df_reviews_train, train_target)"
   ]
  },
  {
   "cell_type": "code",
   "execution_count": 22,
   "metadata": {},
   "outputs": [
    {
     "name": "stdout",
     "output_type": "stream",
     "text": [
      "           train  test\n",
      "Exactitud    NaN   NaN\n",
      "F1          0.67  0.67\n",
      "APS         0.50  0.50\n",
      "ROC AUC     0.50  0.50\n"
     ]
    },
    {
     "data": {
      "image/png": "[encoded data removed]",
      "text/plain": [
       "<Figure size 2000x600 with 3 Axes>"
      ]
     },
     "metadata": {},
     "output_type": "display_data"
    }
   ],
   "source": [
    "evaluate_model(model_dummy, df_reviews_train, train_target, df_reviews_test, test_target)"
   ]
  },
  {
   "cell_type": "markdown",
   "metadata": {},
   "source": [
    "### Modelo 1 - NLTK, TF-IDF y LR"
   ]
  },
  {
   "cell_type": "markdown",
   "metadata": {},
   "source": [
    "TF-IDF"
   ]
  },
  {
   "cell_type": "code",
   "execution_count": 23,
   "metadata": {},
   "outputs": [],
   "source": [
    "import nltk\n",
    "\n",
    "from sklearn.feature_extraction.text import TfidfVectorizer\n",
    "from sklearn.linear_model import LogisticRegression\n",
    "\n",
    "from nltk.corpus import stopwords"
   ]
  },
  {
   "cell_type": "code",
   "execution_count": 24,
   "metadata": {},
   "outputs": [
    {
     "name": "stderr",
     "output_type": "stream",
     "text": [
      "[nltk_data] Downloading package punkt to /home/jovyan/nltk_data...\n",
      "[nltk_data]   Package punkt is already up-to-date!\n",
      "[nltk_data] Downloading package stopwords to /home/jovyan/nltk_data...\n",
      "[nltk_data]   Package stopwords is already up-to-date!\n"
     ]
    },
    {
     "name": "stdout",
     "output_type": "stream",
     "text": [
      "           train  test\n",
      "Exactitud    NaN   NaN\n",
      "F1          0.94  0.88\n",
      "APS         0.98  0.95\n",
      "ROC AUC     0.98  0.95\n"
     ]
    },
    {
     "data": {
      "image/png": "[encoded data removed]",
      "text/plain": [
       "<Figure size 2000x600 with 3 Axes>"
      ]
     },
     "metadata": {},
     "output_type": "display_data"
    }
   ],
   "source": [
    "nltk.download('punkt')\n",
    "nltk.download('stopwords')\n",
    "\n",
    "# Convertir el texto en vectores usando TF-IDF\n",
    "tfidf_vectorizer_1 = TfidfVectorizer(stop_words = stopwords.words('english'), lowercase = True) \n",
    "X_train_tfidf = tfidf_vectorizer_1.fit_transform(df_reviews_train['review_norm'])\n",
    "X_test_tfidf = tfidf_vectorizer_1.transform(df_reviews_test['review_norm'])\n",
    "\n",
    "# Crear y entrenar el modelo de regresión logística\n",
    "model_1 = LogisticRegression(max_iter=1000)\n",
    "model_1.fit(X_train_tfidf, train_target)\n",
    "\n",
    "evaluate_model(model_1, X_train_tfidf, train_target, X_test_tfidf, test_target)"
   ]
  },
  {
   "cell_type": "markdown",
   "metadata": {},
   "source": [
    "### Modelo 3 - spaCy, TF-IDF y LR"
   ]
  },
  {
   "cell_type": "code",
   "execution_count": 25,
   "metadata": {},
   "outputs": [],
   "source": [
    "import spacy\n",
    "\n",
    "nlp = spacy.load('en_core_web_sm', disable=['parser', 'ner'])"
   ]
  },
  {
   "cell_type": "code",
   "execution_count": 26,
   "metadata": {},
   "outputs": [],
   "source": [
    "def text_preprocessing_3(text):\n",
    "    \n",
    "    doc = nlp(text)\n",
    "    #tokens = [token.lemma_ for token in doc if not token.is_stop]\n",
    "    tokens = [token.lemma_ for token in doc]\n",
    "    \n",
    "    return ' '.join(tokens)"
   ]
  },
  {
   "cell_type": "code",
   "execution_count": 27,
   "metadata": {
    "scrolled": true
   },
   "outputs": [
    {
     "data": {
      "application/vnd.jupyter.widget-view+json": {
       "model_id": "945065868d984c13b7dc2a1f765a3304",
       "version_major": 2,
       "version_minor": 0
      },
      "text/plain": [
       "  0%|          | 0/23796 [00:00<?, ?it/s]"
      ]
     },
     "metadata": {},
     "output_type": "display_data"
    },
    {
     "data": {
      "application/vnd.jupyter.widget-view+json": {
       "model_id": "eb049ee484794739a0c7f6c873213e9c",
       "version_major": 2,
       "version_minor": 0
      },
      "text/plain": [
       "  0%|          | 0/23535 [00:00<?, ?it/s]"
      ]
     },
     "metadata": {},
     "output_type": "display_data"
    }
   ],
   "source": [
    "tfidf_vectorizer_3 = TfidfVectorizer(stop_words = stopwords.words('english'), lowercase = True) \n",
    "\n",
    "df_reviews_train['review_token_3'] = df_reviews_train['review_norm'].progress_apply(lambda fila: text_preprocessing_3(fila))\n",
    "df_reviews_test['review_token_3'] = df_reviews_test['review_norm'].progress_apply(lambda fila: text_preprocessing_3(fila))\n",
    "\n",
    "X_train_tfidf = tfidf_vectorizer_3.fit_transform(df_reviews_train['review_token_3'])\n",
    "X_test_tfidf = tfidf_vectorizer_3.transform(df_reviews_test['review_token_3'])\n",
    "\n",
    "# Entrenar el modelo de Regresión Logística\n",
    "clf = LogisticRegression()\n",
    "model_3 = clf.fit(X_train_tfidf, train_target)\n"
   ]
  },
  {
   "cell_type": "code",
   "execution_count": 28,
   "metadata": {},
   "outputs": [
    {
     "name": "stdout",
     "output_type": "stream",
     "text": [
      "           train  test\n",
      "Exactitud    NaN   NaN\n",
      "F1          0.93  0.88\n",
      "APS         0.98  0.95\n",
      "ROC AUC     0.98  0.95\n"
     ]
    },
    {
     "data": {
      "image/png": "[encoded data removed]",
      "text/plain": [
       "<Figure size 2000x600 with 3 Axes>"
      ]
     },
     "metadata": {},
     "output_type": "display_data"
    }
   ],
   "source": [
    "evaluate_model(model_3, X_train_tfidf, train_target, X_test_tfidf, test_target)"
   ]
  },
  {
   "cell_type": "markdown",
   "metadata": {},
   "source": [
    "### Modelo 4 - spaCy, TF-IDF y LGBMClassifier"
   ]
  },
  {
   "cell_type": "code",
   "execution_count": 29,
   "metadata": {},
   "outputs": [],
   "source": [
    "import lightgbm as lgb\n",
    "from lightgbm import LGBMClassifier"
   ]
  },
  {
   "cell_type": "code",
   "execution_count": 30,
   "metadata": {},
   "outputs": [
    {
     "name": "stdout",
     "output_type": "stream",
     "text": [
      "           train  test\n",
      "Exactitud    NaN   NaN\n",
      "F1          0.91  0.86\n",
      "APS         0.97  0.93\n",
      "ROC AUC     0.97  0.93\n"
     ]
    },
    {
     "data": {
      "image/png": "[encoded data removed]",
      "text/plain": [
       "<Figure size 2000x600 with 3 Axes>"
      ]
     },
     "metadata": {},
     "output_type": "display_data"
    }
   ],
   "source": [
    "lgbm = lgb.LGBMClassifier()\n",
    "model_4 = lgbm.fit(X_train_tfidf, train_target)\n",
    "\n",
    "evaluate_model(model_4, X_train_tfidf, train_target, X_test_tfidf, test_target)"
   ]
  },
  {
   "cell_type": "markdown",
   "metadata": {},
   "source": [
    "###  Modelo 9 - BERT"
   ]
  },
  {
   "cell_type": "code",
   "execution_count": 31,
   "metadata": {},
   "outputs": [],
   "source": [
    "import torch\n",
    "import transformers"
   ]
  },
  {
   "cell_type": "code",
   "execution_count": 32,
   "metadata": {},
   "outputs": [
    {
     "name": "stderr",
     "output_type": "stream",
     "text": [
      "Some weights of the model checkpoint at bert-base-uncased were not used when initializing BertModel: ['cls.predictions.decoder.weight', 'cls.predictions.transform.dense.bias', 'cls.seq_relationship.weight', 'cls.predictions.bias', 'cls.predictions.transform.LayerNorm.weight', 'cls.predictions.transform.LayerNorm.bias', 'cls.seq_relationship.bias', 'cls.predictions.transform.dense.weight']\n",
      "- This IS expected if you are initializing BertModel from the checkpoint of a model trained on another task or with another architecture (e.g. initializing a BertForSequenceClassification model from a BertForPreTraining model).\n",
      "- This IS NOT expected if you are initializing BertModel from the checkpoint of a model that you expect to be exactly identical (initializing a BertForSequenceClassification model from a BertForSequenceClassification model).\n"
     ]
    }
   ],
   "source": [
    "tokenizer = transformers.BertTokenizer.from_pretrained('bert-base-uncased')\n",
    "config = transformers.BertConfig.from_pretrained('bert-base-uncased')\n",
    "model = transformers.BertModel.from_pretrained('bert-base-uncased')"
   ]
  },
  {
   "cell_type": "code",
   "execution_count": 33,
   "metadata": {},
   "outputs": [],
   "source": [
    "def BERT_text_to_embeddings(texts, max_length=512, batch_size=100, force_device=None, disable_progress_bar=False):\n",
    "    \n",
    "    ids_list = []\n",
    "    attention_mask_list = []\n",
    "\n",
    "    # text to padded ids of tokens along with their attention masks\n",
    "    \n",
    "    for input_text in tqdm(texts, disable=disable_progress_bar):\n",
    "        ids = tokenizer.encode(input_text.lower(), add_special_tokens=True, truncation=True, max_length=max_length)\n",
    "        padded = np.array(ids + [0]*(max_length - len(ids)))\n",
    "        attention_mask = np.where(padded != 0, 1, 0)\n",
    "        ids_list.append(padded)\n",
    "        attention_mask_list.append(attention_mask)\n",
    "    \n",
    "    if force_device is not None:\n",
    "        device = torch.device(force_device)\n",
    "    else:\n",
    "        device = torch.device('cuda' if torch.cuda.is_available() else 'cpu')\n",
    "        \n",
    "    model.to(device)\n",
    "    if not disable_progress_bar:\n",
    "        print(f'Using the {device} device.')\n",
    "    \n",
    "    # gettings embeddings in batches\n",
    "\n",
    "    embeddings = []\n",
    "\n",
    "    for i in tqdm(range(math.ceil(len(ids_list)/batch_size)), disable=disable_progress_bar):\n",
    "            \n",
    "        ids_batch = torch.LongTensor(ids_list[batch_size*i:batch_size*(i+1)]).to(device)\n",
    "        attention_mask_batch = torch.LongTensor(attention_mask_list[batch_size*i:batch_size*(i+1)]).to(device)\n",
    "            \n",
    "        with torch.no_grad():            \n",
    "            model.eval()\n",
    "            batch_embeddings = model(input_ids=ids_batch, attention_mask=attention_mask_batch)   \n",
    "        embeddings.append(batch_embeddings[0][:,0,:].detach().cpu().numpy())\n",
    "        \n",
    "    return np.concatenate(embeddings)"
   ]
  },
  {
   "cell_type": "code",
   "execution_count": 34,
   "metadata": {},
   "outputs": [
    {
     "data": {
      "application/vnd.jupyter.widget-view+json": {
       "model_id": "41aae036f9244ef0b74e8f535adf7e4d",
       "version_major": 2,
       "version_minor": 0
      },
      "text/plain": [
       "  0%|          | 0/23796 [00:00<?, ?it/s]"
      ]
     },
     "metadata": {},
     "output_type": "display_data"
    },
    {
     "ename": "RuntimeError",
     "evalue": "Found no NVIDIA driver on your system. Please check that you have an NVIDIA GPU and installed a driver from http://www.nvidia.com/Download/index.aspx",
     "output_type": "error",
     "traceback": [
      "\u001b[0;31m---------------------------------------------------------------------------\u001b[0m",
      "\u001b[0;31mRuntimeError\u001b[0m                              Traceback (most recent call last)",
      "Cell \u001b[0;32mIn[34], line 2\u001b[0m\n\u001b[1;32m      1\u001b[0m \u001b[38;5;66;03m# ¡Atención! La ejecución de BERT para miles de textos puede llevar mucho tiempo en la CPU, al menos varias horas\u001b[39;00m\n\u001b[0;32m----> 2\u001b[0m train_features_9 \u001b[38;5;241m=\u001b[39m \u001b[43mBERT_text_to_embeddings\u001b[49m\u001b[43m(\u001b[49m\u001b[43mdf_reviews_train\u001b[49m\u001b[43m[\u001b[49m\u001b[38;5;124;43m'\u001b[39;49m\u001b[38;5;124;43mreview_norm\u001b[39;49m\u001b[38;5;124;43m'\u001b[39;49m\u001b[43m]\u001b[49m\u001b[43m,\u001b[49m\u001b[43m \u001b[49m\u001b[43mforce_device\u001b[49m\u001b[38;5;241;43m=\u001b[39;49m\u001b[38;5;124;43m'\u001b[39;49m\u001b[38;5;124;43mcuda\u001b[39;49m\u001b[38;5;124;43m'\u001b[39;49m\u001b[43m)\u001b[49m\n",
      "Cell \u001b[0;32mIn[33], line 20\u001b[0m, in \u001b[0;36mBERT_text_to_embeddings\u001b[0;34m(texts, max_length, batch_size, force_device, disable_progress_bar)\u001b[0m\n\u001b[1;32m     17\u001b[0m \u001b[38;5;28;01melse\u001b[39;00m:\n\u001b[1;32m     18\u001b[0m     device \u001b[38;5;241m=\u001b[39m torch\u001b[38;5;241m.\u001b[39mdevice(\u001b[38;5;124m'\u001b[39m\u001b[38;5;124mcuda\u001b[39m\u001b[38;5;124m'\u001b[39m \u001b[38;5;28;01mif\u001b[39;00m torch\u001b[38;5;241m.\u001b[39mcuda\u001b[38;5;241m.\u001b[39mis_available() \u001b[38;5;28;01melse\u001b[39;00m \u001b[38;5;124m'\u001b[39m\u001b[38;5;124mcpu\u001b[39m\u001b[38;5;124m'\u001b[39m)\n\u001b[0;32m---> 20\u001b[0m \u001b[43mmodel\u001b[49m\u001b[38;5;241;43m.\u001b[39;49m\u001b[43mto\u001b[49m\u001b[43m(\u001b[49m\u001b[43mdevice\u001b[49m\u001b[43m)\u001b[49m\n\u001b[1;32m     21\u001b[0m \u001b[38;5;28;01mif\u001b[39;00m \u001b[38;5;129;01mnot\u001b[39;00m disable_progress_bar:\n\u001b[1;32m     22\u001b[0m     \u001b[38;5;28mprint\u001b[39m(\u001b[38;5;124mf\u001b[39m\u001b[38;5;124m'\u001b[39m\u001b[38;5;124mUsing the \u001b[39m\u001b[38;5;132;01m{\u001b[39;00mdevice\u001b[38;5;132;01m}\u001b[39;00m\u001b[38;5;124m device.\u001b[39m\u001b[38;5;124m'\u001b[39m)\n",
      "File \u001b[0;32m/opt/conda/envs/python3/lib/python3.9/site-packages/torch/nn/modules/module.py:899\u001b[0m, in \u001b[0;36mModule.to\u001b[0;34m(self, *args, **kwargs)\u001b[0m\n\u001b[1;32m    895\u001b[0m         \u001b[38;5;28;01mreturn\u001b[39;00m t\u001b[38;5;241m.\u001b[39mto(device, dtype \u001b[38;5;28;01mif\u001b[39;00m t\u001b[38;5;241m.\u001b[39mis_floating_point() \u001b[38;5;129;01mor\u001b[39;00m t\u001b[38;5;241m.\u001b[39mis_complex() \u001b[38;5;28;01melse\u001b[39;00m \u001b[38;5;28;01mNone\u001b[39;00m,\n\u001b[1;32m    896\u001b[0m                     non_blocking, memory_format\u001b[38;5;241m=\u001b[39mconvert_to_format)\n\u001b[1;32m    897\u001b[0m     \u001b[38;5;28;01mreturn\u001b[39;00m t\u001b[38;5;241m.\u001b[39mto(device, dtype \u001b[38;5;28;01mif\u001b[39;00m t\u001b[38;5;241m.\u001b[39mis_floating_point() \u001b[38;5;129;01mor\u001b[39;00m t\u001b[38;5;241m.\u001b[39mis_complex() \u001b[38;5;28;01melse\u001b[39;00m \u001b[38;5;28;01mNone\u001b[39;00m, non_blocking)\n\u001b[0;32m--> 899\u001b[0m \u001b[38;5;28;01mreturn\u001b[39;00m \u001b[38;5;28;43mself\u001b[39;49m\u001b[38;5;241;43m.\u001b[39;49m\u001b[43m_apply\u001b[49m\u001b[43m(\u001b[49m\u001b[43mconvert\u001b[49m\u001b[43m)\u001b[49m\n",
      "File \u001b[0;32m/opt/conda/envs/python3/lib/python3.9/site-packages/torch/nn/modules/module.py:570\u001b[0m, in \u001b[0;36mModule._apply\u001b[0;34m(self, fn)\u001b[0m\n\u001b[1;32m    568\u001b[0m \u001b[38;5;28;01mdef\u001b[39;00m \u001b[38;5;21m_apply\u001b[39m(\u001b[38;5;28mself\u001b[39m, fn):\n\u001b[1;32m    569\u001b[0m     \u001b[38;5;28;01mfor\u001b[39;00m module \u001b[38;5;129;01min\u001b[39;00m \u001b[38;5;28mself\u001b[39m\u001b[38;5;241m.\u001b[39mchildren():\n\u001b[0;32m--> 570\u001b[0m         \u001b[43mmodule\u001b[49m\u001b[38;5;241;43m.\u001b[39;49m\u001b[43m_apply\u001b[49m\u001b[43m(\u001b[49m\u001b[43mfn\u001b[49m\u001b[43m)\u001b[49m\n\u001b[1;32m    572\u001b[0m     \u001b[38;5;28;01mdef\u001b[39;00m \u001b[38;5;21mcompute_should_use_set_data\u001b[39m(tensor, tensor_applied):\n\u001b[1;32m    573\u001b[0m         \u001b[38;5;28;01mif\u001b[39;00m torch\u001b[38;5;241m.\u001b[39m_has_compatible_shallow_copy_type(tensor, tensor_applied):\n\u001b[1;32m    574\u001b[0m             \u001b[38;5;66;03m# If the new tensor has compatible tensor type as the existing tensor,\u001b[39;00m\n\u001b[1;32m    575\u001b[0m             \u001b[38;5;66;03m# the current behavior is to change the tensor in-place using `.data =`,\u001b[39;00m\n\u001b[0;32m   (...)\u001b[0m\n\u001b[1;32m    580\u001b[0m             \u001b[38;5;66;03m# global flag to let the user control whether they want the future\u001b[39;00m\n\u001b[1;32m    581\u001b[0m             \u001b[38;5;66;03m# behavior of overwriting the existing tensor or not.\u001b[39;00m\n",
      "File \u001b[0;32m/opt/conda/envs/python3/lib/python3.9/site-packages/torch/nn/modules/module.py:570\u001b[0m, in \u001b[0;36mModule._apply\u001b[0;34m(self, fn)\u001b[0m\n\u001b[1;32m    568\u001b[0m \u001b[38;5;28;01mdef\u001b[39;00m \u001b[38;5;21m_apply\u001b[39m(\u001b[38;5;28mself\u001b[39m, fn):\n\u001b[1;32m    569\u001b[0m     \u001b[38;5;28;01mfor\u001b[39;00m module \u001b[38;5;129;01min\u001b[39;00m \u001b[38;5;28mself\u001b[39m\u001b[38;5;241m.\u001b[39mchildren():\n\u001b[0;32m--> 570\u001b[0m         \u001b[43mmodule\u001b[49m\u001b[38;5;241;43m.\u001b[39;49m\u001b[43m_apply\u001b[49m\u001b[43m(\u001b[49m\u001b[43mfn\u001b[49m\u001b[43m)\u001b[49m\n\u001b[1;32m    572\u001b[0m     \u001b[38;5;28;01mdef\u001b[39;00m \u001b[38;5;21mcompute_should_use_set_data\u001b[39m(tensor, tensor_applied):\n\u001b[1;32m    573\u001b[0m         \u001b[38;5;28;01mif\u001b[39;00m torch\u001b[38;5;241m.\u001b[39m_has_compatible_shallow_copy_type(tensor, tensor_applied):\n\u001b[1;32m    574\u001b[0m             \u001b[38;5;66;03m# If the new tensor has compatible tensor type as the existing tensor,\u001b[39;00m\n\u001b[1;32m    575\u001b[0m             \u001b[38;5;66;03m# the current behavior is to change the tensor in-place using `.data =`,\u001b[39;00m\n\u001b[0;32m   (...)\u001b[0m\n\u001b[1;32m    580\u001b[0m             \u001b[38;5;66;03m# global flag to let the user control whether they want the future\u001b[39;00m\n\u001b[1;32m    581\u001b[0m             \u001b[38;5;66;03m# behavior of overwriting the existing tensor or not.\u001b[39;00m\n",
      "File \u001b[0;32m/opt/conda/envs/python3/lib/python3.9/site-packages/torch/nn/modules/module.py:593\u001b[0m, in \u001b[0;36mModule._apply\u001b[0;34m(self, fn)\u001b[0m\n\u001b[1;32m    589\u001b[0m \u001b[38;5;66;03m# Tensors stored in modules are graph leaves, and we don't want to\u001b[39;00m\n\u001b[1;32m    590\u001b[0m \u001b[38;5;66;03m# track autograd history of `param_applied`, so we have to use\u001b[39;00m\n\u001b[1;32m    591\u001b[0m \u001b[38;5;66;03m# `with torch.no_grad():`\u001b[39;00m\n\u001b[1;32m    592\u001b[0m \u001b[38;5;28;01mwith\u001b[39;00m torch\u001b[38;5;241m.\u001b[39mno_grad():\n\u001b[0;32m--> 593\u001b[0m     param_applied \u001b[38;5;241m=\u001b[39m \u001b[43mfn\u001b[49m\u001b[43m(\u001b[49m\u001b[43mparam\u001b[49m\u001b[43m)\u001b[49m\n\u001b[1;32m    594\u001b[0m should_use_set_data \u001b[38;5;241m=\u001b[39m compute_should_use_set_data(param, param_applied)\n\u001b[1;32m    595\u001b[0m \u001b[38;5;28;01mif\u001b[39;00m should_use_set_data:\n",
      "File \u001b[0;32m/opt/conda/envs/python3/lib/python3.9/site-packages/torch/nn/modules/module.py:897\u001b[0m, in \u001b[0;36mModule.to.<locals>.convert\u001b[0;34m(t)\u001b[0m\n\u001b[1;32m    894\u001b[0m \u001b[38;5;28;01mif\u001b[39;00m convert_to_format \u001b[38;5;129;01mis\u001b[39;00m \u001b[38;5;129;01mnot\u001b[39;00m \u001b[38;5;28;01mNone\u001b[39;00m \u001b[38;5;129;01mand\u001b[39;00m t\u001b[38;5;241m.\u001b[39mdim() \u001b[38;5;129;01min\u001b[39;00m (\u001b[38;5;241m4\u001b[39m, \u001b[38;5;241m5\u001b[39m):\n\u001b[1;32m    895\u001b[0m     \u001b[38;5;28;01mreturn\u001b[39;00m t\u001b[38;5;241m.\u001b[39mto(device, dtype \u001b[38;5;28;01mif\u001b[39;00m t\u001b[38;5;241m.\u001b[39mis_floating_point() \u001b[38;5;129;01mor\u001b[39;00m t\u001b[38;5;241m.\u001b[39mis_complex() \u001b[38;5;28;01melse\u001b[39;00m \u001b[38;5;28;01mNone\u001b[39;00m,\n\u001b[1;32m    896\u001b[0m                 non_blocking, memory_format\u001b[38;5;241m=\u001b[39mconvert_to_format)\n\u001b[0;32m--> 897\u001b[0m \u001b[38;5;28;01mreturn\u001b[39;00m \u001b[43mt\u001b[49m\u001b[38;5;241;43m.\u001b[39;49m\u001b[43mto\u001b[49m\u001b[43m(\u001b[49m\u001b[43mdevice\u001b[49m\u001b[43m,\u001b[49m\u001b[43m \u001b[49m\u001b[43mdtype\u001b[49m\u001b[43m \u001b[49m\u001b[38;5;28;43;01mif\u001b[39;49;00m\u001b[43m \u001b[49m\u001b[43mt\u001b[49m\u001b[38;5;241;43m.\u001b[39;49m\u001b[43mis_floating_point\u001b[49m\u001b[43m(\u001b[49m\u001b[43m)\u001b[49m\u001b[43m \u001b[49m\u001b[38;5;129;43;01mor\u001b[39;49;00m\u001b[43m \u001b[49m\u001b[43mt\u001b[49m\u001b[38;5;241;43m.\u001b[39;49m\u001b[43mis_complex\u001b[49m\u001b[43m(\u001b[49m\u001b[43m)\u001b[49m\u001b[43m \u001b[49m\u001b[38;5;28;43;01melse\u001b[39;49;00m\u001b[43m \u001b[49m\u001b[38;5;28;43;01mNone\u001b[39;49;00m\u001b[43m,\u001b[49m\u001b[43m \u001b[49m\u001b[43mnon_blocking\u001b[49m\u001b[43m)\u001b[49m\n",
      "File \u001b[0;32m/opt/conda/envs/python3/lib/python3.9/site-packages/torch/cuda/__init__.py:214\u001b[0m, in \u001b[0;36m_lazy_init\u001b[0;34m()\u001b[0m\n\u001b[1;32m    210\u001b[0m     \u001b[38;5;28;01mraise\u001b[39;00m \u001b[38;5;167;01mAssertionError\u001b[39;00m(\n\u001b[1;32m    211\u001b[0m         \u001b[38;5;124m\"\u001b[39m\u001b[38;5;124mlibcudart functions unavailable. It looks like you have a broken build?\u001b[39m\u001b[38;5;124m\"\u001b[39m)\n\u001b[1;32m    212\u001b[0m \u001b[38;5;66;03m# This function throws if there's a driver initialization error, no GPUs\u001b[39;00m\n\u001b[1;32m    213\u001b[0m \u001b[38;5;66;03m# are found or any other error occurs\u001b[39;00m\n\u001b[0;32m--> 214\u001b[0m \u001b[43mtorch\u001b[49m\u001b[38;5;241;43m.\u001b[39;49m\u001b[43m_C\u001b[49m\u001b[38;5;241;43m.\u001b[39;49m\u001b[43m_cuda_init\u001b[49m\u001b[43m(\u001b[49m\u001b[43m)\u001b[49m\n\u001b[1;32m    215\u001b[0m \u001b[38;5;66;03m# Some of the queued calls may reentrantly call _lazy_init();\u001b[39;00m\n\u001b[1;32m    216\u001b[0m \u001b[38;5;66;03m# we need to just return without initializing in that case.\u001b[39;00m\n\u001b[1;32m    217\u001b[0m \u001b[38;5;66;03m# However, we must not let any *other* threads in!\u001b[39;00m\n\u001b[1;32m    218\u001b[0m _tls\u001b[38;5;241m.\u001b[39mis_initializing \u001b[38;5;241m=\u001b[39m \u001b[38;5;28;01mTrue\u001b[39;00m\n",
      "\u001b[0;31mRuntimeError\u001b[0m: Found no NVIDIA driver on your system. Please check that you have an NVIDIA GPU and installed a driver from http://www.nvidia.com/Download/index.aspx"
     ]
    }
   ],
   "source": [
    "# ¡Atención! La ejecución de BERT para miles de textos puede llevar mucho tiempo en la CPU, al menos varias horas\n",
    "train_features_9 = BERT_text_to_embeddings(df_reviews_train['review_norm'], force_device='cuda')"
   ]
  },
  {
   "cell_type": "code",
   "execution_count": null,
   "metadata": {},
   "outputs": [],
   "source": [
    "print(df_reviews_train['review_norm'].shape)\n",
    "print(train_features_9.shape)\n",
    "print(train_target.shape)"
   ]
  },
  {
   "cell_type": "code",
   "execution_count": null,
   "metadata": {},
   "outputs": [],
   "source": [
    "from sklearn.linear_model import LogisticRegression\n",
    "\n",
    "model_9 = LogisticRegression(max_iter=1000)\n",
    "\n",
    "model_9.fit(train_features_9, train_target)\n",
    "\n",
    "evaluate_model(model_9, train_features_9, train_target, test_features_9, test_target)"
   ]
  },
  {
   "cell_type": "code",
   "execution_count": null,
   "metadata": {},
   "outputs": [],
   "source": [
    "# si ya obtuviste los insertados, te recomendamos guardarlos para tenerlos listos si\n",
    "# np.savez_compressed('features_9.npz', train_features_9=train_features_9, test_features_9=test_features_9)\n",
    "\n",
    "# y cargar...\n",
    "# with np.load('features_9.npz') as data:\n",
    "#     train_features_9 = data['train_features_9']\n",
    "#     test_features_9 = data['test_features_9']"
   ]
  },
  {
   "cell_type": "markdown",
   "metadata": {},
   "source": [
    "## Mis reseñas"
   ]
  },
  {
   "cell_type": "code",
   "execution_count": 31,
   "metadata": {},
   "outputs": [
    {
     "data": {
      "text/html": [
       "<div>\n",
       "<style scoped>\n",
       "    .dataframe tbody tr th:only-of-type {\n",
       "        vertical-align: middle;\n",
       "    }\n",
       "\n",
       "    .dataframe tbody tr th {\n",
       "        vertical-align: top;\n",
       "    }\n",
       "\n",
       "    .dataframe thead th {\n",
       "        text-align: right;\n",
       "    }\n",
       "</style>\n",
       "<table border=\"1\" class=\"dataframe\">\n",
       "  <thead>\n",
       "    <tr style=\"text-align: right;\">\n",
       "      <th></th>\n",
       "      <th>review</th>\n",
       "      <th>review_norm</th>\n",
       "    </tr>\n",
       "  </thead>\n",
       "  <tbody>\n",
       "    <tr>\n",
       "      <th>0</th>\n",
       "      <td>I did not simply like it, not my kind of movie.</td>\n",
       "      <td>I did not simply like it not my kind of movie</td>\n",
       "    </tr>\n",
       "    <tr>\n",
       "      <th>1</th>\n",
       "      <td>Well, I was bored and felt asleep in the middl...</td>\n",
       "      <td>Well I was bored and felt asleep in the middle...</td>\n",
       "    </tr>\n",
       "    <tr>\n",
       "      <th>2</th>\n",
       "      <td>I was really fascinated with the movie</td>\n",
       "      <td>I was really fascinated with the movie</td>\n",
       "    </tr>\n",
       "    <tr>\n",
       "      <th>3</th>\n",
       "      <td>Even the actors looked really old and disinter...</td>\n",
       "      <td>Even the actors looked really old and disinter...</td>\n",
       "    </tr>\n",
       "    <tr>\n",
       "      <th>4</th>\n",
       "      <td>I didn't expect the reboot to be so good! Writ...</td>\n",
       "      <td>I didn't expect the reboot to be so good Write...</td>\n",
       "    </tr>\n",
       "    <tr>\n",
       "      <th>5</th>\n",
       "      <td>The movie had its upsides and downsides, but I...</td>\n",
       "      <td>The movie had its upsides and downsides but I ...</td>\n",
       "    </tr>\n",
       "    <tr>\n",
       "      <th>6</th>\n",
       "      <td>What a rotten attempt at a comedy. Not a singl...</td>\n",
       "      <td>What a rotten attempt at a comedy Not a single...</td>\n",
       "    </tr>\n",
       "    <tr>\n",
       "      <th>7</th>\n",
       "      <td>Launching on Netflix was a brave move &amp; I real...</td>\n",
       "      <td>Launching on Netflix was a brave move I really...</td>\n",
       "    </tr>\n",
       "  </tbody>\n",
       "</table>\n",
       "</div>"
      ],
      "text/plain": [
       "                                              review  \\\n",
       "0    I did not simply like it, not my kind of movie.   \n",
       "1  Well, I was bored and felt asleep in the middl...   \n",
       "2             I was really fascinated with the movie   \n",
       "3  Even the actors looked really old and disinter...   \n",
       "4  I didn't expect the reboot to be so good! Writ...   \n",
       "5  The movie had its upsides and downsides, but I...   \n",
       "6  What a rotten attempt at a comedy. Not a singl...   \n",
       "7  Launching on Netflix was a brave move & I real...   \n",
       "\n",
       "                                         review_norm  \n",
       "0      I did not simply like it not my kind of movie  \n",
       "1  Well I was bored and felt asleep in the middle...  \n",
       "2             I was really fascinated with the movie  \n",
       "3  Even the actors looked really old and disinter...  \n",
       "4  I didn't expect the reboot to be so good Write...  \n",
       "5  The movie had its upsides and downsides but I ...  \n",
       "6  What a rotten attempt at a comedy Not a single...  \n",
       "7  Launching on Netflix was a brave move I really...  "
      ]
     },
     "execution_count": 31,
     "metadata": {},
     "output_type": "execute_result"
    }
   ],
   "source": [
    "# puedes eliminar por completo estas reseñas y probar tus modelos en tus propias reseñas; las que se muestran a continuación son solo ejemplos\n",
    "\n",
    "my_reviews = pd.DataFrame([\n",
    "    'I did not simply like it, not my kind of movie.',\n",
    "    'Well, I was bored and felt asleep in the middle of the movie.',\n",
    "    'I was really fascinated with the movie',    \n",
    "    'Even the actors looked really old and disinterested, and they got paid to be in the movie. What a soulless cash grab.',\n",
    "    'I didn\\'t expect the reboot to be so good! Writers really cared about the source material',\n",
    "    'The movie had its upsides and downsides, but I feel like overall it\\'s a decent flick. I could see myself going to see it again.',\n",
    "    'What a rotten attempt at a comedy. Not a single joke lands, everyone acts annoying and loud, even kids won\\'t like this!',\n",
    "    'Launching on Netflix was a brave move & I really appreciate being able to binge on episode after episode, of this exciting intelligent new drama.'\n",
    "], columns=['review'])\n",
    "\n",
    "\"\"\"\n",
    "my_reviews = pd.DataFrame([\n",
    "    'Simplemente no me gustó, no es mi tipo de película.',\n",
    "    'Bueno, estaba aburrido y me quedé dormido a media película.',\n",
    "    'Estaba realmente fascinada con la película',    \n",
    "    'Hasta los actores parecían muy viejos y desinteresados, y les pagaron por estar en la película. Qué robo tan desalmado.',\n",
    "    '¡No esperaba que el relanzamiento fuera tan bueno! Los escritores realmente se preocuparon por el material original',\n",
    "    'La película tuvo sus altibajos, pero siento que, en general, es una película decente. Sí la volvería a ver',\n",
    "    'Qué pésimo intento de comedia. Ni una sola broma tiene sentido, todos actúan de forma irritante y ruidosa, ¡ni siquiera a los niños les gustará esto!',\n",
    "    'Fue muy valiente el lanzamiento en Netflix y realmente aprecio poder seguir viendo episodio tras episodio de este nuevo drama tan emocionante e inteligente.'\n",
    "], columns=['review'])\n",
    "\"\"\"\n",
    "\n",
    "my_reviews['review_norm'] = my_reviews['review'].apply(lambda text: \" \".join(re.sub(r'[^a-zA-Z\\']', ' ', text).split()))\n",
    "\n",
    "my_reviews"
   ]
  },
  {
   "cell_type": "markdown",
   "metadata": {},
   "source": [
    "### Modelo 1"
   ]
  },
  {
   "cell_type": "code",
   "execution_count": 32,
   "metadata": {},
   "outputs": [
    {
     "name": "stdout",
     "output_type": "stream",
     "text": [
      "0.16:  I did not simply like it not my kind of movie\n",
      "0.18:  Well I was bored and felt asleep in the middle of the movie\n",
      "0.56:  I was really fascinated with the movie\n",
      "0.13:  Even the actors looked really old and disinterested and they got paid to be in the movie What a soul\n",
      "0.34:  I didn't expect the reboot to be so good Writers really cared about the source material\n",
      "0.48:  The movie had its upsides and downsides but I feel like overall it's a decent flick I could see myse\n",
      "0.04:  What a rotten attempt at a comedy Not a single joke lands everyone acts annoying and loud even kids \n",
      "0.84:  Launching on Netflix was a brave move I really appreciate being able to binge on episode after episo\n"
     ]
    }
   ],
   "source": [
    "texts = my_reviews['review_norm']\n",
    "\n",
    "my_reviews_pred_prob = model_1.predict_proba(tfidf_vectorizer_1.transform(texts))[:, 1]\n",
    "\n",
    "for i, review in enumerate(texts.str.slice(0, 100)):\n",
    "    print(f'{my_reviews_pred_prob[i]:.2f}:  {review}')"
   ]
  },
  {
   "cell_type": "markdown",
   "metadata": {},
   "source": [
    "### Modelo 3"
   ]
  },
  {
   "cell_type": "code",
   "execution_count": 33,
   "metadata": {},
   "outputs": [
    {
     "name": "stdout",
     "output_type": "stream",
     "text": [
      "0.20:  I did not simply like it not my kind of movie\n",
      "0.13:  Well I was bored and felt asleep in the middle of the movie\n",
      "0.49:  I was really fascinated with the movie\n",
      "0.10:  Even the actors looked really old and disinterested and they got paid to be in the movie What a soul\n",
      "0.27:  I didn't expect the reboot to be so good Writers really cared about the source material\n",
      "0.47:  The movie had its upsides and downsides but I feel like overall it's a decent flick I could see myse\n",
      "0.03:  What a rotten attempt at a comedy Not a single joke lands everyone acts annoying and loud even kids \n",
      "0.92:  Launching on Netflix was a brave move I really appreciate being able to binge on episode after episo\n"
     ]
    }
   ],
   "source": [
    "texts = my_reviews['review_norm']\n",
    "\n",
    "my_reviews_pred_prob = model_3.predict_proba(tfidf_vectorizer_3.transform(texts.apply(lambda x: text_preprocessing_3(x))))[:, 1]\n",
    "\n",
    "for i, review in enumerate(texts.str.slice(0, 100)):\n",
    "    print(f'{my_reviews_pred_prob[i]:.2f}:  {review}')"
   ]
  },
  {
   "cell_type": "markdown",
   "metadata": {},
   "source": [
    "### Modelo 4"
   ]
  },
  {
   "cell_type": "code",
   "execution_count": 34,
   "metadata": {},
   "outputs": [
    {
     "name": "stdout",
     "output_type": "stream",
     "text": [
      "0.60:  I did not simply like it not my kind of movie\n",
      "0.32:  Well I was bored and felt asleep in the middle of the movie\n",
      "0.62:  I was really fascinated with the movie\n",
      "0.35:  Even the actors looked really old and disinterested and they got paid to be in the movie What a soul\n",
      "0.69:  I didn't expect the reboot to be so good Writers really cared about the source material\n",
      "0.68:  The movie had its upsides and downsides but I feel like overall it's a decent flick I could see myse\n",
      "0.27:  What a rotten attempt at a comedy Not a single joke lands everyone acts annoying and loud even kids \n",
      "0.75:  Launching on Netflix was a brave move I really appreciate being able to binge on episode after episo\n"
     ]
    }
   ],
   "source": [
    "texts = my_reviews['review_norm']\n",
    "\n",
    "tfidf_vectorizer_4 = tfidf_vectorizer_3\n",
    "my_reviews_pred_prob = model_4.predict_proba(tfidf_vectorizer_4.transform(texts.apply(lambda x: text_preprocessing_3(x))))[:, 1]\n",
    "\n",
    "for i, review in enumerate(texts.str.slice(0, 100)):\n",
    "    print(f'{my_reviews_pred_prob[i]:.2f}:  {review}')"
   ]
  },
  {
   "cell_type": "markdown",
   "metadata": {},
   "source": [
    "### Modelo 9"
   ]
  },
  {
   "cell_type": "code",
   "execution_count": null,
   "metadata": {},
   "outputs": [],
   "source": [
    "texts = my_reviews['review_norm']\n",
    "\n",
    "my_reviews_features_9 = BERT_text_to_embeddings(texts, disable_progress_bar=True)\n",
    "\n",
    "my_reviews_pred_prob = model_9.predict_proba(my_reviews_features_9)[:, 1]\n",
    "\n",
    "for i, review in enumerate(texts.str.slice(0, 100)):\n",
    "    print(f'{my_reviews_pred_prob[i]:.2f}:  {review}')"
   ]
  },
  {
   "cell_type": "markdown",
   "metadata": {},
   "source": [
    "## Conclusiones"
   ]
  },
  {
   "cell_type": "markdown",
   "metadata": {},
   "source": [
    "- Existen algunas formas diferentes de convertir texto en tokens y lemas.\n",
    "- Hay varias maneras de convertir textos en vectores.\n",
    "- El modelo simple TF-IDF + LogisticRegression ofrece una buena calidad según las métricas objetivo.\n",
    "- La lematización con spaCy no parece aportar mucho.\n",
    "- BERT requiere mucho tiempo en CPU, pero mucho menos en GPU.\n",
    "- El modelo de clasificación basado en el modelo de lenguaje (BERT) muestra métricas (precisión, F1, etc.)de  valores similares a modelos menos complejos, pero parece ser más discriminativo (las probabilidades son más 'polarizadas') y menos susceptible al sobreajuste."
   ]
  }
 ],
 "metadata": {
  "ExecuteTimeLog": [
   {
    "duration": 2531,
    "start_time": "2024-12-12T00:27:08.742Z"
   },
   {
    "duration": 6,
    "start_time": "2024-12-12T00:27:11.275Z"
   },
   {
    "duration": 4,
    "start_time": "2024-12-12T00:27:11.282Z"
   },
   {
    "duration": 693,
    "start_time": "2024-12-12T00:27:11.288Z"
   },
   {
    "duration": 29,
    "start_time": "2024-12-12T00:27:11.984Z"
   },
   {
    "duration": 2842,
    "start_time": "2024-12-12T00:27:12.014Z"
   },
   {
    "duration": 694,
    "start_time": "2024-12-12T00:27:14.858Z"
   },
   {
    "duration": 6,
    "start_time": "2024-12-12T00:27:15.554Z"
   },
   {
    "duration": 343,
    "start_time": "2024-12-12T00:27:15.562Z"
   },
   {
    "duration": 3631,
    "start_time": "2024-12-12T00:27:15.911Z"
   },
   {
    "duration": 236,
    "start_time": "2024-12-12T00:27:19.544Z"
   },
   {
    "duration": 3,
    "start_time": "2024-12-12T00:27:19.781Z"
   },
   {
    "duration": 34,
    "start_time": "2024-12-12T00:27:19.786Z"
   },
   {
    "duration": 3,
    "start_time": "2024-12-12T00:27:19.824Z"
   },
   {
    "duration": 152,
    "start_time": "2024-12-12T00:27:19.829Z"
   },
   {
    "duration": 247,
    "start_time": "2024-12-12T00:27:19.982Z"
   },
   {
    "duration": 0,
    "start_time": "2024-12-12T00:27:20.231Z"
   },
   {
    "duration": 0,
    "start_time": "2024-12-12T00:27:20.232Z"
   },
   {
    "duration": 0,
    "start_time": "2024-12-12T00:27:20.233Z"
   },
   {
    "duration": 0,
    "start_time": "2024-12-12T00:27:20.234Z"
   },
   {
    "duration": 0,
    "start_time": "2024-12-12T00:27:20.235Z"
   },
   {
    "duration": 0,
    "start_time": "2024-12-12T00:27:20.236Z"
   },
   {
    "duration": 0,
    "start_time": "2024-12-12T00:27:20.237Z"
   },
   {
    "duration": 0,
    "start_time": "2024-12-12T00:27:20.238Z"
   },
   {
    "duration": 0,
    "start_time": "2024-12-12T00:27:20.240Z"
   },
   {
    "duration": 0,
    "start_time": "2024-12-12T00:27:20.242Z"
   },
   {
    "duration": 0,
    "start_time": "2024-12-12T00:27:20.244Z"
   },
   {
    "duration": 0,
    "start_time": "2024-12-12T00:27:20.245Z"
   },
   {
    "duration": 0,
    "start_time": "2024-12-12T00:27:20.246Z"
   },
   {
    "duration": 0,
    "start_time": "2024-12-12T00:27:20.248Z"
   },
   {
    "duration": 183,
    "start_time": "2024-12-12T03:10:48.341Z"
   },
   {
    "duration": 2609,
    "start_time": "2024-12-12T03:10:54.075Z"
   },
   {
    "duration": 7,
    "start_time": "2024-12-12T03:10:56.687Z"
   },
   {
    "duration": 3,
    "start_time": "2024-12-12T03:10:56.950Z"
   },
   {
    "duration": 801,
    "start_time": "2024-12-12T03:10:58.064Z"
   },
   {
    "duration": 13,
    "start_time": "2024-12-12T03:11:50.689Z"
   },
   {
    "duration": 153,
    "start_time": "2024-12-12T03:11:54.293Z"
   },
   {
    "duration": 24,
    "start_time": "2024-12-12T03:11:56.074Z"
   },
   {
    "duration": 27,
    "start_time": "2024-12-12T03:13:53.852Z"
   },
   {
    "duration": 23,
    "start_time": "2024-12-12T03:14:00.595Z"
   },
   {
    "duration": 2575,
    "start_time": "2024-12-17T06:55:19.463Z"
   },
   {
    "duration": 8,
    "start_time": "2024-12-17T06:55:22.041Z"
   },
   {
    "duration": 3,
    "start_time": "2024-12-17T06:55:22.050Z"
   },
   {
    "duration": 759,
    "start_time": "2024-12-17T06:55:22.055Z"
   },
   {
    "duration": 13,
    "start_time": "2024-12-17T06:55:22.816Z"
   },
   {
    "duration": 171,
    "start_time": "2024-12-17T06:55:22.830Z"
   },
   {
    "duration": 25,
    "start_time": "2024-12-17T06:55:23.003Z"
   },
   {
    "duration": 18,
    "start_time": "2024-12-17T06:55:23.031Z"
   },
   {
    "duration": 825,
    "start_time": "2024-12-17T06:55:23.051Z"
   },
   {
    "duration": 0,
    "start_time": "2024-12-17T06:55:23.879Z"
   },
   {
    "duration": 0,
    "start_time": "2024-12-17T06:55:23.880Z"
   },
   {
    "duration": 0,
    "start_time": "2024-12-17T06:55:23.882Z"
   },
   {
    "duration": 0,
    "start_time": "2024-12-17T06:55:23.883Z"
   },
   {
    "duration": 0,
    "start_time": "2024-12-17T06:55:23.884Z"
   },
   {
    "duration": 0,
    "start_time": "2024-12-17T06:55:23.885Z"
   },
   {
    "duration": 0,
    "start_time": "2024-12-17T06:55:23.886Z"
   },
   {
    "duration": 0,
    "start_time": "2024-12-17T06:55:23.887Z"
   },
   {
    "duration": 0,
    "start_time": "2024-12-17T06:55:23.888Z"
   },
   {
    "duration": 0,
    "start_time": "2024-12-17T06:55:23.909Z"
   },
   {
    "duration": 0,
    "start_time": "2024-12-17T06:55:23.910Z"
   },
   {
    "duration": 0,
    "start_time": "2024-12-17T06:55:23.913Z"
   },
   {
    "duration": 0,
    "start_time": "2024-12-17T06:55:23.914Z"
   },
   {
    "duration": 0,
    "start_time": "2024-12-17T06:55:23.916Z"
   },
   {
    "duration": 0,
    "start_time": "2024-12-17T06:55:23.917Z"
   },
   {
    "duration": 0,
    "start_time": "2024-12-17T06:55:23.918Z"
   },
   {
    "duration": 0,
    "start_time": "2024-12-17T06:55:23.919Z"
   },
   {
    "duration": 0,
    "start_time": "2024-12-17T06:55:23.920Z"
   },
   {
    "duration": 0,
    "start_time": "2024-12-17T06:55:23.921Z"
   },
   {
    "duration": 0,
    "start_time": "2024-12-17T06:55:23.922Z"
   },
   {
    "duration": 0,
    "start_time": "2024-12-17T06:55:23.923Z"
   },
   {
    "duration": 0,
    "start_time": "2024-12-17T06:55:23.925Z"
   },
   {
    "duration": 0,
    "start_time": "2024-12-17T06:55:23.926Z"
   },
   {
    "duration": 0,
    "start_time": "2024-12-17T06:55:23.928Z"
   },
   {
    "duration": 0,
    "start_time": "2024-12-17T06:55:23.929Z"
   },
   {
    "duration": 6,
    "start_time": "2024-12-17T06:58:28.554Z"
   },
   {
    "duration": 4,
    "start_time": "2024-12-17T06:59:52.643Z"
   },
   {
    "duration": 57,
    "start_time": "2024-12-17T06:59:57.765Z"
   },
   {
    "duration": 5,
    "start_time": "2024-12-17T07:02:10.002Z"
   },
   {
    "duration": 62,
    "start_time": "2024-12-17T07:02:11.551Z"
   },
   {
    "duration": 4,
    "start_time": "2024-12-17T07:02:51.483Z"
   },
   {
    "duration": 6,
    "start_time": "2024-12-17T07:02:52.624Z"
   },
   {
    "duration": 22,
    "start_time": "2024-12-17T07:03:31.025Z"
   },
   {
    "duration": 12,
    "start_time": "2024-12-17T07:03:34.298Z"
   },
   {
    "duration": 12,
    "start_time": "2024-12-17T07:03:37.859Z"
   },
   {
    "duration": 2895,
    "start_time": "2024-12-17T07:43:22.270Z"
   },
   {
    "duration": 666,
    "start_time": "2024-12-17T07:43:30.386Z"
   },
   {
    "duration": 20,
    "start_time": "2024-12-17T07:43:57.138Z"
   },
   {
    "duration": 4,
    "start_time": "2024-12-17T07:43:58.104Z"
   },
   {
    "duration": 4,
    "start_time": "2024-12-17T07:43:58.971Z"
   },
   {
    "duration": 4,
    "start_time": "2024-12-17T07:44:09.663Z"
   },
   {
    "duration": 21,
    "start_time": "2024-12-17T07:45:48.525Z"
   },
   {
    "duration": 18,
    "start_time": "2024-12-17T07:46:21.120Z"
   },
   {
    "duration": 13,
    "start_time": "2024-12-17T07:46:23.164Z"
   },
   {
    "duration": 21,
    "start_time": "2024-12-17T07:47:43.554Z"
   },
   {
    "duration": 16,
    "start_time": "2024-12-17T07:47:44.259Z"
   },
   {
    "duration": 7,
    "start_time": "2024-12-17T07:47:45.699Z"
   },
   {
    "duration": 24,
    "start_time": "2024-12-17T07:48:03.481Z"
   },
   {
    "duration": 156,
    "start_time": "2024-12-19T15:45:53.188Z"
   },
   {
    "duration": 2541,
    "start_time": "2024-12-19T15:46:01.255Z"
   },
   {
    "duration": 11,
    "start_time": "2024-12-19T15:46:03.798Z"
   },
   {
    "duration": 3,
    "start_time": "2024-12-19T15:46:03.811Z"
   },
   {
    "duration": 753,
    "start_time": "2024-12-19T15:46:03.817Z"
   },
   {
    "duration": 12,
    "start_time": "2024-12-19T15:46:04.572Z"
   },
   {
    "duration": 174,
    "start_time": "2024-12-19T15:46:04.587Z"
   },
   {
    "duration": 22,
    "start_time": "2024-12-19T15:46:04.763Z"
   },
   {
    "duration": 33,
    "start_time": "2024-12-19T15:46:04.787Z"
   },
   {
    "duration": 30,
    "start_time": "2024-12-19T15:46:04.821Z"
   },
   {
    "duration": 8,
    "start_time": "2024-12-19T15:46:04.854Z"
   },
   {
    "duration": 25,
    "start_time": "2024-12-19T15:46:04.863Z"
   },
   {
    "duration": 2883,
    "start_time": "2024-12-19T15:46:04.890Z"
   },
   {
    "duration": 652,
    "start_time": "2024-12-19T15:46:07.776Z"
   },
   {
    "duration": 5,
    "start_time": "2024-12-19T15:46:08.430Z"
   },
   {
    "duration": 332,
    "start_time": "2024-12-19T15:46:08.437Z"
   },
   {
    "duration": 3606,
    "start_time": "2024-12-19T15:46:08.771Z"
   },
   {
    "duration": 237,
    "start_time": "2024-12-19T15:46:12.380Z"
   },
   {
    "duration": 3,
    "start_time": "2024-12-19T15:46:12.619Z"
   },
   {
    "duration": 25,
    "start_time": "2024-12-19T15:46:12.624Z"
   },
   {
    "duration": 4,
    "start_time": "2024-12-19T15:46:12.651Z"
   },
   {
    "duration": 160,
    "start_time": "2024-12-19T15:46:12.656Z"
   },
   {
    "duration": 252,
    "start_time": "2024-12-19T15:46:12.818Z"
   },
   {
    "duration": 0,
    "start_time": "2024-12-19T15:46:13.072Z"
   },
   {
    "duration": 0,
    "start_time": "2024-12-19T15:46:13.073Z"
   },
   {
    "duration": 0,
    "start_time": "2024-12-19T15:46:13.074Z"
   },
   {
    "duration": 0,
    "start_time": "2024-12-19T15:46:13.075Z"
   },
   {
    "duration": 0,
    "start_time": "2024-12-19T15:46:13.077Z"
   },
   {
    "duration": 0,
    "start_time": "2024-12-19T15:46:13.078Z"
   },
   {
    "duration": 0,
    "start_time": "2024-12-19T15:46:13.080Z"
   },
   {
    "duration": 0,
    "start_time": "2024-12-19T15:46:13.081Z"
   },
   {
    "duration": 0,
    "start_time": "2024-12-19T15:46:13.082Z"
   },
   {
    "duration": 0,
    "start_time": "2024-12-19T15:46:13.083Z"
   },
   {
    "duration": 0,
    "start_time": "2024-12-19T15:46:13.084Z"
   },
   {
    "duration": 0,
    "start_time": "2024-12-19T15:46:13.085Z"
   },
   {
    "duration": 0,
    "start_time": "2024-12-19T15:46:13.108Z"
   },
   {
    "duration": 0,
    "start_time": "2024-12-19T15:46:13.109Z"
   },
   {
    "duration": 163,
    "start_time": "2024-12-20T01:33:18.156Z"
   },
   {
    "duration": 2584,
    "start_time": "2024-12-20T01:37:06.246Z"
   },
   {
    "duration": 6,
    "start_time": "2024-12-20T01:37:08.832Z"
   },
   {
    "duration": 2,
    "start_time": "2024-12-20T01:37:08.840Z"
   },
   {
    "duration": 943,
    "start_time": "2024-12-20T01:37:08.845Z"
   },
   {
    "duration": 12,
    "start_time": "2024-12-20T01:37:09.790Z"
   },
   {
    "duration": 166,
    "start_time": "2024-12-20T01:37:09.804Z"
   },
   {
    "duration": 30,
    "start_time": "2024-12-20T01:37:09.972Z"
   },
   {
    "duration": 21,
    "start_time": "2024-12-20T01:37:10.004Z"
   },
   {
    "duration": 23,
    "start_time": "2024-12-20T01:37:10.027Z"
   },
   {
    "duration": 8,
    "start_time": "2024-12-20T01:37:10.054Z"
   },
   {
    "duration": 46,
    "start_time": "2024-12-20T01:37:10.064Z"
   },
   {
    "duration": 2935,
    "start_time": "2024-12-20T01:37:10.112Z"
   },
   {
    "duration": 660,
    "start_time": "2024-12-20T01:37:13.050Z"
   },
   {
    "duration": 5,
    "start_time": "2024-12-20T01:37:13.712Z"
   },
   {
    "duration": 356,
    "start_time": "2024-12-20T01:37:13.720Z"
   },
   {
    "duration": 3645,
    "start_time": "2024-12-20T01:37:14.078Z"
   },
   {
    "duration": 273,
    "start_time": "2024-12-20T01:37:17.725Z"
   },
   {
    "duration": 340,
    "start_time": "2024-12-20T01:37:18.000Z"
   },
   {
    "duration": 0,
    "start_time": "2024-12-20T01:37:18.342Z"
   },
   {
    "duration": 0,
    "start_time": "2024-12-20T01:37:18.343Z"
   },
   {
    "duration": 0,
    "start_time": "2024-12-20T01:37:18.348Z"
   },
   {
    "duration": 0,
    "start_time": "2024-12-20T01:37:18.350Z"
   },
   {
    "duration": 0,
    "start_time": "2024-12-20T01:37:18.351Z"
   },
   {
    "duration": 0,
    "start_time": "2024-12-20T01:37:18.352Z"
   },
   {
    "duration": 0,
    "start_time": "2024-12-20T01:37:18.354Z"
   },
   {
    "duration": 0,
    "start_time": "2024-12-20T01:37:18.355Z"
   },
   {
    "duration": 0,
    "start_time": "2024-12-20T01:37:18.356Z"
   },
   {
    "duration": 0,
    "start_time": "2024-12-20T01:37:18.357Z"
   },
   {
    "duration": 0,
    "start_time": "2024-12-20T01:37:18.358Z"
   },
   {
    "duration": 0,
    "start_time": "2024-12-20T01:37:18.360Z"
   },
   {
    "duration": 0,
    "start_time": "2024-12-20T01:37:18.361Z"
   },
   {
    "duration": 0,
    "start_time": "2024-12-20T01:37:18.362Z"
   },
   {
    "duration": 0,
    "start_time": "2024-12-20T01:37:18.363Z"
   },
   {
    "duration": 0,
    "start_time": "2024-12-20T01:37:18.386Z"
   },
   {
    "duration": 0,
    "start_time": "2024-12-20T01:37:18.388Z"
   },
   {
    "duration": 0,
    "start_time": "2024-12-20T01:37:18.389Z"
   },
   {
    "duration": 0,
    "start_time": "2024-12-20T01:37:18.390Z"
   },
   {
    "duration": 5067,
    "start_time": "2024-12-20T01:38:11.399Z"
   },
   {
    "duration": 4733,
    "start_time": "2024-12-20T01:38:24.061Z"
   },
   {
    "duration": 24,
    "start_time": "2024-12-20T01:38:51.096Z"
   },
   {
    "duration": 5,
    "start_time": "2024-12-20T01:39:31.727Z"
   },
   {
    "duration": 15,
    "start_time": "2024-12-20T01:39:32.629Z"
   },
   {
    "duration": 7,
    "start_time": "2024-12-20T01:40:23.391Z"
   },
   {
    "duration": 16,
    "start_time": "2024-12-20T01:40:41.271Z"
   },
   {
    "duration": 8,
    "start_time": "2024-12-20T01:40:53.331Z"
   },
   {
    "duration": 14,
    "start_time": "2024-12-20T01:40:57.323Z"
   },
   {
    "duration": 14,
    "start_time": "2024-12-20T01:42:31.302Z"
   },
   {
    "duration": 2,
    "start_time": "2024-12-20T01:42:44.848Z"
   },
   {
    "duration": 161,
    "start_time": "2024-12-20T01:42:45.894Z"
   },
   {
    "duration": 46,
    "start_time": "2024-12-20T01:43:54.546Z"
   },
   {
    "duration": 4,
    "start_time": "2024-12-20T01:44:11.024Z"
   },
   {
    "duration": 7,
    "start_time": "2024-12-20T01:44:13.898Z"
   },
   {
    "duration": 15,
    "start_time": "2024-12-20T01:47:59.605Z"
   },
   {
    "duration": 18,
    "start_time": "2024-12-20T01:48:05.615Z"
   },
   {
    "duration": 272,
    "start_time": "2024-12-20T01:48:10.035Z"
   },
   {
    "duration": 119,
    "start_time": "2024-12-20T01:48:11.539Z"
   },
   {
    "duration": 514,
    "start_time": "2024-12-20T01:49:24.448Z"
   },
   {
    "duration": 45,
    "start_time": "2024-12-20T01:50:35.152Z"
   },
   {
    "duration": 2,
    "start_time": "2024-12-20T01:50:41.567Z"
   },
   {
    "duration": 35,
    "start_time": "2024-12-20T01:50:42.814Z"
   },
   {
    "duration": 16,
    "start_time": "2024-12-20T01:50:46.920Z"
   },
   {
    "duration": 2621,
    "start_time": "2025-01-14T15:57:35.702Z"
   },
   {
    "duration": 7,
    "start_time": "2025-01-14T15:57:41.249Z"
   },
   {
    "duration": 808,
    "start_time": "2025-01-14T17:49:00.361Z"
   },
   {
    "duration": 7,
    "start_time": "2025-01-14T17:49:01.172Z"
   },
   {
    "duration": 2,
    "start_time": "2025-01-14T17:49:01.186Z"
   },
   {
    "duration": 816,
    "start_time": "2025-01-14T17:49:01.190Z"
   },
   {
    "duration": 13,
    "start_time": "2025-01-14T17:49:02.009Z"
   },
   {
    "duration": 164,
    "start_time": "2025-01-14T17:49:02.024Z"
   },
   {
    "duration": 29,
    "start_time": "2025-01-14T17:49:02.191Z"
   },
   {
    "duration": 26,
    "start_time": "2025-01-14T17:49:02.222Z"
   },
   {
    "duration": 51,
    "start_time": "2025-01-14T17:49:02.250Z"
   },
   {
    "duration": 11,
    "start_time": "2025-01-14T17:49:02.305Z"
   },
   {
    "duration": 30,
    "start_time": "2025-01-14T17:49:02.318Z"
   },
   {
    "duration": 3045,
    "start_time": "2025-01-14T17:49:02.350Z"
   },
   {
    "duration": 630,
    "start_time": "2025-01-14T17:49:05.398Z"
   },
   {
    "duration": 5,
    "start_time": "2025-01-14T17:49:06.030Z"
   },
   {
    "duration": 390,
    "start_time": "2025-01-14T17:49:06.036Z"
   },
   {
    "duration": 3912,
    "start_time": "2025-01-14T17:49:06.429Z"
   },
   {
    "duration": 176,
    "start_time": "2025-01-14T17:49:10.343Z"
   },
   {
    "duration": 5127,
    "start_time": "2025-01-14T17:49:10.521Z"
   },
   {
    "duration": 27,
    "start_time": "2025-01-14T17:49:15.651Z"
   },
   {
    "duration": 4,
    "start_time": "2025-01-14T17:49:15.686Z"
   },
   {
    "duration": 3,
    "start_time": "2025-01-14T17:49:15.692Z"
   },
   {
    "duration": 8,
    "start_time": "2025-01-14T17:49:15.697Z"
   },
   {
    "duration": 256,
    "start_time": "2025-01-14T17:49:15.707Z"
   },
   {
    "duration": 413,
    "start_time": "2025-01-14T17:49:15.965Z"
   },
   {
    "duration": 0,
    "start_time": "2025-01-14T17:49:16.379Z"
   },
   {
    "duration": 0,
    "start_time": "2025-01-14T17:49:16.381Z"
   },
   {
    "duration": 0,
    "start_time": "2025-01-14T17:49:16.382Z"
   },
   {
    "duration": 0,
    "start_time": "2025-01-14T17:49:16.387Z"
   },
   {
    "duration": 0,
    "start_time": "2025-01-14T17:49:16.388Z"
   },
   {
    "duration": 0,
    "start_time": "2025-01-14T17:49:16.389Z"
   },
   {
    "duration": 0,
    "start_time": "2025-01-14T17:49:16.390Z"
   },
   {
    "duration": 0,
    "start_time": "2025-01-14T17:49:16.391Z"
   },
   {
    "duration": 0,
    "start_time": "2025-01-14T17:49:16.392Z"
   },
   {
    "duration": 0,
    "start_time": "2025-01-14T17:49:16.393Z"
   },
   {
    "duration": 0,
    "start_time": "2025-01-14T17:49:16.394Z"
   },
   {
    "duration": 0,
    "start_time": "2025-01-14T17:49:16.395Z"
   },
   {
    "duration": 0,
    "start_time": "2025-01-14T17:49:16.395Z"
   },
   {
    "duration": 0,
    "start_time": "2025-01-14T17:49:16.397Z"
   },
   {
    "duration": 0,
    "start_time": "2025-01-14T17:49:16.397Z"
   },
   {
    "duration": 2570,
    "start_time": "2025-01-15T02:15:46.836Z"
   },
   {
    "duration": 7,
    "start_time": "2025-01-15T02:15:49.408Z"
   },
   {
    "duration": 3,
    "start_time": "2025-01-15T02:15:49.416Z"
   },
   {
    "duration": 720,
    "start_time": "2025-01-15T02:15:49.422Z"
   },
   {
    "duration": 13,
    "start_time": "2025-01-15T02:15:50.143Z"
   },
   {
    "duration": 170,
    "start_time": "2025-01-15T02:15:50.158Z"
   },
   {
    "duration": 22,
    "start_time": "2025-01-15T02:15:50.330Z"
   },
   {
    "duration": 33,
    "start_time": "2025-01-15T02:15:50.354Z"
   },
   {
    "duration": 23,
    "start_time": "2025-01-15T02:15:50.389Z"
   },
   {
    "duration": 7,
    "start_time": "2025-01-15T02:15:50.416Z"
   },
   {
    "duration": 21,
    "start_time": "2025-01-15T02:15:50.424Z"
   },
   {
    "duration": 2877,
    "start_time": "2025-01-15T02:15:50.446Z"
   },
   {
    "duration": 680,
    "start_time": "2025-01-15T02:15:53.325Z"
   },
   {
    "duration": 5,
    "start_time": "2025-01-15T02:15:54.007Z"
   },
   {
    "duration": 314,
    "start_time": "2025-01-15T02:15:54.014Z"
   },
   {
    "duration": 3672,
    "start_time": "2025-01-15T02:15:54.330Z"
   },
   {
    "duration": 146,
    "start_time": "2025-01-15T02:15:58.004Z"
   },
   {
    "duration": 4698,
    "start_time": "2025-01-15T02:15:58.152Z"
   },
   {
    "duration": 35,
    "start_time": "2025-01-15T02:16:02.852Z"
   },
   {
    "duration": 4,
    "start_time": "2025-01-15T02:16:02.888Z"
   },
   {
    "duration": 4,
    "start_time": "2025-01-15T02:16:02.894Z"
   },
   {
    "duration": 7,
    "start_time": "2025-01-15T02:16:02.900Z"
   },
   {
    "duration": 157,
    "start_time": "2025-01-15T02:16:02.908Z"
   },
   {
    "duration": 567,
    "start_time": "2025-01-15T02:16:03.067Z"
   },
   {
    "duration": 0,
    "start_time": "2025-01-15T02:16:03.637Z"
   },
   {
    "duration": 0,
    "start_time": "2025-01-15T02:16:03.638Z"
   },
   {
    "duration": 0,
    "start_time": "2025-01-15T02:16:03.640Z"
   },
   {
    "duration": 0,
    "start_time": "2025-01-15T02:16:03.641Z"
   },
   {
    "duration": 0,
    "start_time": "2025-01-15T02:16:03.642Z"
   },
   {
    "duration": 0,
    "start_time": "2025-01-15T02:16:03.643Z"
   },
   {
    "duration": 0,
    "start_time": "2025-01-15T02:16:03.645Z"
   },
   {
    "duration": 0,
    "start_time": "2025-01-15T02:16:03.646Z"
   },
   {
    "duration": 0,
    "start_time": "2025-01-15T02:16:03.646Z"
   },
   {
    "duration": 0,
    "start_time": "2025-01-15T02:16:03.648Z"
   },
   {
    "duration": 0,
    "start_time": "2025-01-15T02:16:03.649Z"
   },
   {
    "duration": 0,
    "start_time": "2025-01-15T02:16:03.650Z"
   },
   {
    "duration": 0,
    "start_time": "2025-01-15T02:16:03.652Z"
   },
   {
    "duration": 0,
    "start_time": "2025-01-15T02:16:03.655Z"
   },
   {
    "duration": 0,
    "start_time": "2025-01-15T02:16:03.656Z"
   },
   {
    "duration": 2574,
    "start_time": "2025-01-15T03:14:33.367Z"
   },
   {
    "duration": 6,
    "start_time": "2025-01-15T03:14:35.944Z"
   },
   {
    "duration": 3,
    "start_time": "2025-01-15T03:14:35.952Z"
   },
   {
    "duration": 748,
    "start_time": "2025-01-15T03:14:35.958Z"
   },
   {
    "duration": 14,
    "start_time": "2025-01-15T03:14:36.708Z"
   },
   {
    "duration": 160,
    "start_time": "2025-01-15T03:14:36.723Z"
   },
   {
    "duration": 24,
    "start_time": "2025-01-15T03:14:36.884Z"
   },
   {
    "duration": 18,
    "start_time": "2025-01-15T03:14:36.909Z"
   },
   {
    "duration": 23,
    "start_time": "2025-01-15T03:14:36.929Z"
   },
   {
    "duration": 7,
    "start_time": "2025-01-15T03:14:36.955Z"
   },
   {
    "duration": 45,
    "start_time": "2025-01-15T03:14:36.963Z"
   },
   {
    "duration": 2845,
    "start_time": "2025-01-15T03:14:37.009Z"
   },
   {
    "duration": 663,
    "start_time": "2025-01-15T03:14:39.855Z"
   },
   {
    "duration": 6,
    "start_time": "2025-01-15T03:14:40.520Z"
   },
   {
    "duration": 327,
    "start_time": "2025-01-15T03:14:40.527Z"
   },
   {
    "duration": 3632,
    "start_time": "2025-01-15T03:14:40.856Z"
   },
   {
    "duration": 140,
    "start_time": "2025-01-15T03:14:44.490Z"
   },
   {
    "duration": 4695,
    "start_time": "2025-01-15T03:14:44.632Z"
   },
   {
    "duration": 26,
    "start_time": "2025-01-15T03:14:49.329Z"
   },
   {
    "duration": 4,
    "start_time": "2025-01-15T03:14:49.357Z"
   },
   {
    "duration": 3,
    "start_time": "2025-01-15T03:14:49.363Z"
   },
   {
    "duration": 7,
    "start_time": "2025-01-15T03:14:49.367Z"
   },
   {
    "duration": 258,
    "start_time": "2025-01-15T03:14:49.376Z"
   },
   {
    "duration": 6,
    "start_time": "2025-01-15T03:14:49.636Z"
   },
   {
    "duration": 0,
    "start_time": "2025-01-15T03:14:49.644Z"
   },
   {
    "duration": 0,
    "start_time": "2025-01-15T03:14:49.645Z"
   },
   {
    "duration": 0,
    "start_time": "2025-01-15T03:14:49.647Z"
   },
   {
    "duration": 0,
    "start_time": "2025-01-15T03:14:49.649Z"
   },
   {
    "duration": 0,
    "start_time": "2025-01-15T03:14:49.650Z"
   },
   {
    "duration": 0,
    "start_time": "2025-01-15T03:14:49.652Z"
   },
   {
    "duration": 0,
    "start_time": "2025-01-15T03:14:49.654Z"
   },
   {
    "duration": 0,
    "start_time": "2025-01-15T03:14:49.655Z"
   },
   {
    "duration": 0,
    "start_time": "2025-01-15T03:14:49.657Z"
   },
   {
    "duration": 0,
    "start_time": "2025-01-15T03:14:49.658Z"
   },
   {
    "duration": 0,
    "start_time": "2025-01-15T03:14:49.660Z"
   },
   {
    "duration": 0,
    "start_time": "2025-01-15T03:14:49.661Z"
   },
   {
    "duration": 0,
    "start_time": "2025-01-15T03:14:49.663Z"
   },
   {
    "duration": 0,
    "start_time": "2025-01-15T03:14:49.664Z"
   },
   {
    "duration": 0,
    "start_time": "2025-01-15T03:14:49.665Z"
   },
   {
    "duration": 8823,
    "start_time": "2025-01-15T03:15:38.564Z"
   },
   {
    "duration": 547,
    "start_time": "2025-01-15T03:17:12.150Z"
   },
   {
    "duration": 250,
    "start_time": "2025-01-15T03:18:49.016Z"
   },
   {
    "duration": 2551,
    "start_time": "2025-01-15T23:58:15.700Z"
   },
   {
    "duration": 7,
    "start_time": "2025-01-15T23:58:18.254Z"
   },
   {
    "duration": 3,
    "start_time": "2025-01-15T23:58:18.262Z"
   },
   {
    "duration": 742,
    "start_time": "2025-01-15T23:58:18.268Z"
   },
   {
    "duration": 16,
    "start_time": "2025-01-15T23:58:19.012Z"
   },
   {
    "duration": 164,
    "start_time": "2025-01-15T23:58:19.029Z"
   },
   {
    "duration": 27,
    "start_time": "2025-01-15T23:58:19.195Z"
   },
   {
    "duration": 25,
    "start_time": "2025-01-15T23:58:19.224Z"
   },
   {
    "duration": 27,
    "start_time": "2025-01-15T23:58:19.251Z"
   },
   {
    "duration": 7,
    "start_time": "2025-01-15T23:58:19.281Z"
   },
   {
    "duration": 38,
    "start_time": "2025-01-15T23:58:19.290Z"
   },
   {
    "duration": 2843,
    "start_time": "2025-01-15T23:58:19.330Z"
   },
   {
    "duration": 661,
    "start_time": "2025-01-15T23:58:22.175Z"
   },
   {
    "duration": 6,
    "start_time": "2025-01-15T23:58:22.837Z"
   },
   {
    "duration": 330,
    "start_time": "2025-01-15T23:58:22.844Z"
   },
   {
    "duration": 3562,
    "start_time": "2025-01-15T23:58:23.177Z"
   },
   {
    "duration": 246,
    "start_time": "2025-01-15T23:58:26.742Z"
   },
   {
    "duration": 4711,
    "start_time": "2025-01-15T23:58:26.990Z"
   },
   {
    "duration": 25,
    "start_time": "2025-01-15T23:58:31.708Z"
   },
   {
    "duration": 3,
    "start_time": "2025-01-15T23:58:31.735Z"
   },
   {
    "duration": 3,
    "start_time": "2025-01-15T23:58:31.740Z"
   },
   {
    "duration": 569,
    "start_time": "2025-01-15T23:58:31.744Z"
   },
   {
    "duration": 142,
    "start_time": "2025-01-15T23:58:32.315Z"
   },
   {
    "duration": 8538,
    "start_time": "2025-01-15T23:58:32.458Z"
   },
   {
    "duration": 2220,
    "start_time": "2025-01-15T23:58:40.999Z"
   },
   {
    "duration": 3,
    "start_time": "2025-01-15T23:58:43.221Z"
   },
   {
    "duration": 481,
    "start_time": "2025-01-15T23:58:43.226Z"
   },
   {
    "duration": 0,
    "start_time": "2025-01-15T23:58:43.709Z"
   },
   {
    "duration": 0,
    "start_time": "2025-01-15T23:58:43.710Z"
   },
   {
    "duration": 0,
    "start_time": "2025-01-15T23:58:43.712Z"
   },
   {
    "duration": 0,
    "start_time": "2025-01-15T23:58:43.713Z"
   },
   {
    "duration": 0,
    "start_time": "2025-01-15T23:58:43.716Z"
   },
   {
    "duration": 0,
    "start_time": "2025-01-15T23:58:43.717Z"
   },
   {
    "duration": 0,
    "start_time": "2025-01-15T23:58:43.719Z"
   },
   {
    "duration": 0,
    "start_time": "2025-01-15T23:58:43.720Z"
   },
   {
    "duration": 0,
    "start_time": "2025-01-15T23:58:43.721Z"
   },
   {
    "duration": 0,
    "start_time": "2025-01-15T23:58:43.723Z"
   },
   {
    "duration": 0,
    "start_time": "2025-01-15T23:58:43.725Z"
   },
   {
    "duration": 0,
    "start_time": "2025-01-15T23:58:43.726Z"
   },
   {
    "duration": 21,
    "start_time": "2025-01-16T00:15:29.325Z"
   },
   {
    "duration": 5,
    "start_time": "2025-01-16T00:15:51.856Z"
   },
   {
    "duration": 5088,
    "start_time": "2025-01-16T00:18:45.450Z"
   },
   {
    "duration": 301,
    "start_time": "2025-01-16T00:18:52.802Z"
   },
   {
    "duration": 5123,
    "start_time": "2025-01-16T00:20:28.397Z"
   },
   {
    "duration": 573,
    "start_time": "2025-01-16T00:20:34.596Z"
   },
   {
    "duration": 19,
    "start_time": "2025-01-16T00:25:49.585Z"
   },
   {
    "duration": 808,
    "start_time": "2025-01-16T00:26:01.581Z"
   },
   {
    "duration": 7,
    "start_time": "2025-01-16T00:26:02.391Z"
   },
   {
    "duration": 11,
    "start_time": "2025-01-16T00:26:02.399Z"
   },
   {
    "duration": 668,
    "start_time": "2025-01-16T00:26:02.413Z"
   },
   {
    "duration": 14,
    "start_time": "2025-01-16T00:26:03.082Z"
   },
   {
    "duration": 160,
    "start_time": "2025-01-16T00:26:03.109Z"
   },
   {
    "duration": 20,
    "start_time": "2025-01-16T00:26:03.271Z"
   },
   {
    "duration": 31,
    "start_time": "2025-01-16T00:26:03.293Z"
   },
   {
    "duration": 23,
    "start_time": "2025-01-16T00:26:03.325Z"
   },
   {
    "duration": 7,
    "start_time": "2025-01-16T00:26:03.351Z"
   },
   {
    "duration": 22,
    "start_time": "2025-01-16T00:26:03.360Z"
   },
   {
    "duration": 2833,
    "start_time": "2025-01-16T00:26:03.384Z"
   },
   {
    "duration": 637,
    "start_time": "2025-01-16T00:26:06.219Z"
   },
   {
    "duration": 5,
    "start_time": "2025-01-16T00:26:06.858Z"
   },
   {
    "duration": 403,
    "start_time": "2025-01-16T00:26:06.865Z"
   },
   {
    "duration": 3630,
    "start_time": "2025-01-16T00:26:07.270Z"
   },
   {
    "duration": 135,
    "start_time": "2025-01-16T00:26:10.903Z"
   },
   {
    "duration": 4701,
    "start_time": "2025-01-16T00:26:11.040Z"
   },
   {
    "duration": 25,
    "start_time": "2025-01-16T00:26:15.743Z"
   },
   {
    "duration": 4,
    "start_time": "2025-01-16T00:26:15.770Z"
   },
   {
    "duration": 3,
    "start_time": "2025-01-16T00:26:15.776Z"
   },
   {
    "duration": 564,
    "start_time": "2025-01-16T00:26:15.781Z"
   },
   {
    "duration": 246,
    "start_time": "2025-01-16T00:26:16.346Z"
   },
   {
    "duration": 9783,
    "start_time": "2025-01-16T00:26:16.594Z"
   },
   {
    "duration": 2176,
    "start_time": "2025-01-16T00:26:26.380Z"
   },
   {
    "duration": 3,
    "start_time": "2025-01-16T00:26:28.558Z"
   },
   {
    "duration": 687,
    "start_time": "2025-01-16T00:26:28.562Z"
   },
   {
    "duration": 0,
    "start_time": "2025-01-16T00:26:29.251Z"
   },
   {
    "duration": 0,
    "start_time": "2025-01-16T00:26:29.252Z"
   },
   {
    "duration": 0,
    "start_time": "2025-01-16T00:26:29.254Z"
   },
   {
    "duration": 0,
    "start_time": "2025-01-16T00:26:29.255Z"
   },
   {
    "duration": 0,
    "start_time": "2025-01-16T00:26:29.256Z"
   },
   {
    "duration": 0,
    "start_time": "2025-01-16T00:26:29.257Z"
   },
   {
    "duration": 0,
    "start_time": "2025-01-16T00:26:29.258Z"
   },
   {
    "duration": 0,
    "start_time": "2025-01-16T00:26:29.259Z"
   },
   {
    "duration": 0,
    "start_time": "2025-01-16T00:26:29.260Z"
   },
   {
    "duration": 0,
    "start_time": "2025-01-16T00:26:29.261Z"
   },
   {
    "duration": 0,
    "start_time": "2025-01-16T00:26:29.262Z"
   },
   {
    "duration": 0,
    "start_time": "2025-01-16T00:26:29.263Z"
   },
   {
    "duration": 0,
    "start_time": "2025-01-16T00:26:29.264Z"
   },
   {
    "duration": 0,
    "start_time": "2025-01-16T00:26:29.265Z"
   },
   {
    "duration": 0,
    "start_time": "2025-01-16T00:26:29.266Z"
   },
   {
    "duration": 0,
    "start_time": "2025-01-16T00:26:29.267Z"
   },
   {
    "duration": 795,
    "start_time": "2025-01-16T00:29:07.903Z"
   },
   {
    "duration": 11,
    "start_time": "2025-01-16T00:29:08.701Z"
   },
   {
    "duration": 4,
    "start_time": "2025-01-16T00:29:08.714Z"
   },
   {
    "duration": 670,
    "start_time": "2025-01-16T00:29:08.720Z"
   },
   {
    "duration": 18,
    "start_time": "2025-01-16T00:29:09.392Z"
   },
   {
    "duration": 163,
    "start_time": "2025-01-16T00:29:09.412Z"
   },
   {
    "duration": 32,
    "start_time": "2025-01-16T00:29:09.578Z"
   },
   {
    "duration": 19,
    "start_time": "2025-01-16T00:29:09.611Z"
   },
   {
    "duration": 24,
    "start_time": "2025-01-16T00:29:09.632Z"
   },
   {
    "duration": 7,
    "start_time": "2025-01-16T00:29:09.660Z"
   },
   {
    "duration": 41,
    "start_time": "2025-01-16T00:29:09.669Z"
   },
   {
    "duration": 2822,
    "start_time": "2025-01-16T00:29:09.711Z"
   },
   {
    "duration": 637,
    "start_time": "2025-01-16T00:29:12.535Z"
   },
   {
    "duration": 5,
    "start_time": "2025-01-16T00:29:13.175Z"
   },
   {
    "duration": 408,
    "start_time": "2025-01-16T00:29:13.181Z"
   },
   {
    "duration": 3628,
    "start_time": "2025-01-16T00:29:13.591Z"
   },
   {
    "duration": 151,
    "start_time": "2025-01-16T00:29:17.221Z"
   },
   {
    "duration": 4686,
    "start_time": "2025-01-16T00:29:17.373Z"
   },
   {
    "duration": 26,
    "start_time": "2025-01-16T00:29:22.061Z"
   },
   {
    "duration": 3,
    "start_time": "2025-01-16T00:29:22.090Z"
   },
   {
    "duration": 15,
    "start_time": "2025-01-16T00:29:22.095Z"
   },
   {
    "duration": 546,
    "start_time": "2025-01-16T00:29:22.111Z"
   },
   {
    "duration": 238,
    "start_time": "2025-01-16T00:29:22.659Z"
   },
   {
    "duration": 10770,
    "start_time": "2025-01-16T00:29:22.899Z"
   },
   {
    "duration": 2225,
    "start_time": "2025-01-16T00:29:33.671Z"
   },
   {
    "duration": 11,
    "start_time": "2025-01-16T00:29:35.899Z"
   },
   {
    "duration": 8705,
    "start_time": "2025-01-16T00:29:35.911Z"
   },
   {
    "duration": 683,
    "start_time": "2025-01-16T00:29:44.620Z"
   },
   {
    "duration": 18,
    "start_time": "2025-01-16T00:29:45.308Z"
   },
   {
    "duration": 296,
    "start_time": "2025-01-16T00:29:45.328Z"
   },
   {
    "duration": 3,
    "start_time": "2025-01-16T00:29:45.625Z"
   },
   {
    "duration": 495,
    "start_time": "2025-01-16T00:29:45.630Z"
   },
   {
    "duration": 0,
    "start_time": "2025-01-16T00:29:46.127Z"
   },
   {
    "duration": 0,
    "start_time": "2025-01-16T00:29:46.129Z"
   },
   {
    "duration": 0,
    "start_time": "2025-01-16T00:29:46.130Z"
   },
   {
    "duration": 0,
    "start_time": "2025-01-16T00:29:46.131Z"
   },
   {
    "duration": 0,
    "start_time": "2025-01-16T00:29:46.132Z"
   },
   {
    "duration": 0,
    "start_time": "2025-01-16T00:29:46.133Z"
   },
   {
    "duration": 0,
    "start_time": "2025-01-16T00:29:46.134Z"
   },
   {
    "duration": 0,
    "start_time": "2025-01-16T00:29:46.135Z"
   },
   {
    "duration": 0,
    "start_time": "2025-01-16T00:29:46.136Z"
   },
   {
    "duration": 0,
    "start_time": "2025-01-16T00:29:46.138Z"
   },
   {
    "duration": 0,
    "start_time": "2025-01-16T00:29:46.138Z"
   },
   {
    "duration": 817,
    "start_time": "2025-01-16T00:36:27.500Z"
   },
   {
    "duration": 7,
    "start_time": "2025-01-16T00:36:28.319Z"
   },
   {
    "duration": 3,
    "start_time": "2025-01-16T00:36:28.328Z"
   },
   {
    "duration": 680,
    "start_time": "2025-01-16T00:36:28.333Z"
   },
   {
    "duration": 12,
    "start_time": "2025-01-16T00:36:29.016Z"
   },
   {
    "duration": 168,
    "start_time": "2025-01-16T00:36:29.031Z"
   },
   {
    "duration": 45,
    "start_time": "2025-01-16T00:36:29.201Z"
   },
   {
    "duration": 19,
    "start_time": "2025-01-16T00:36:29.248Z"
   },
   {
    "duration": 31,
    "start_time": "2025-01-16T00:36:29.270Z"
   },
   {
    "duration": 10,
    "start_time": "2025-01-16T00:36:29.303Z"
   },
   {
    "duration": 28,
    "start_time": "2025-01-16T00:36:29.315Z"
   },
   {
    "duration": 3256,
    "start_time": "2025-01-16T00:36:29.345Z"
   },
   {
    "duration": 756,
    "start_time": "2025-01-16T00:36:32.603Z"
   },
   {
    "duration": 9,
    "start_time": "2025-01-16T00:36:33.365Z"
   },
   {
    "duration": 498,
    "start_time": "2025-01-16T00:36:33.376Z"
   },
   {
    "duration": 4280,
    "start_time": "2025-01-16T00:36:33.877Z"
   },
   {
    "duration": 177,
    "start_time": "2025-01-16T00:36:38.159Z"
   },
   {
    "duration": 4828,
    "start_time": "2025-01-16T00:36:38.338Z"
   },
   {
    "duration": 27,
    "start_time": "2025-01-16T00:36:43.168Z"
   },
   {
    "duration": 3,
    "start_time": "2025-01-16T00:36:43.208Z"
   },
   {
    "duration": 3,
    "start_time": "2025-01-16T00:36:43.213Z"
   },
   {
    "duration": 573,
    "start_time": "2025-01-16T00:36:43.219Z"
   },
   {
    "duration": 240,
    "start_time": "2025-01-16T00:36:43.794Z"
   },
   {
    "duration": 9825,
    "start_time": "2025-01-16T00:36:44.036Z"
   },
   {
    "duration": 2208,
    "start_time": "2025-01-16T00:36:53.863Z"
   },
   {
    "duration": 2,
    "start_time": "2025-01-16T00:36:56.073Z"
   },
   {
    "duration": 10362,
    "start_time": "2025-01-16T00:36:56.077Z"
   },
   {
    "duration": 616,
    "start_time": "2025-01-16T00:37:06.511Z"
   },
   {
    "duration": 21,
    "start_time": "2025-01-16T00:37:07.130Z"
   },
   {
    "duration": 345,
    "start_time": "2025-01-16T00:37:07.152Z"
   },
   {
    "duration": 12,
    "start_time": "2025-01-16T00:37:07.499Z"
   },
   {
    "duration": 4757,
    "start_time": "2025-01-16T00:37:07.513Z"
   },
   {
    "duration": 0,
    "start_time": "2025-01-16T00:37:12.272Z"
   },
   {
    "duration": 0,
    "start_time": "2025-01-16T00:37:12.274Z"
   },
   {
    "duration": 0,
    "start_time": "2025-01-16T00:37:12.275Z"
   },
   {
    "duration": 0,
    "start_time": "2025-01-16T00:37:12.277Z"
   },
   {
    "duration": 0,
    "start_time": "2025-01-16T00:37:12.278Z"
   },
   {
    "duration": 0,
    "start_time": "2025-01-16T00:37:12.279Z"
   },
   {
    "duration": 0,
    "start_time": "2025-01-16T00:37:12.281Z"
   },
   {
    "duration": 0,
    "start_time": "2025-01-16T00:37:12.282Z"
   },
   {
    "duration": 0,
    "start_time": "2025-01-16T00:37:12.283Z"
   },
   {
    "duration": 0,
    "start_time": "2025-01-16T00:37:12.285Z"
   },
   {
    "duration": 0,
    "start_time": "2025-01-16T00:37:12.312Z"
   },
   {
    "duration": 3,
    "start_time": "2025-01-16T00:38:12.805Z"
   },
   {
    "duration": 813,
    "start_time": "2025-01-16T00:38:57.487Z"
   },
   {
    "duration": 6,
    "start_time": "2025-01-16T00:38:58.304Z"
   },
   {
    "duration": 4,
    "start_time": "2025-01-16T00:38:58.312Z"
   },
   {
    "duration": 727,
    "start_time": "2025-01-16T00:38:58.318Z"
   },
   {
    "duration": 14,
    "start_time": "2025-01-16T00:38:59.047Z"
   },
   {
    "duration": 182,
    "start_time": "2025-01-16T00:38:59.063Z"
   },
   {
    "duration": 21,
    "start_time": "2025-01-16T00:38:59.247Z"
   },
   {
    "duration": 26,
    "start_time": "2025-01-16T00:38:59.271Z"
   },
   {
    "duration": 26,
    "start_time": "2025-01-16T00:38:59.309Z"
   },
   {
    "duration": 10,
    "start_time": "2025-01-16T00:38:59.336Z"
   },
   {
    "duration": 22,
    "start_time": "2025-01-16T00:38:59.348Z"
   },
   {
    "duration": 2930,
    "start_time": "2025-01-16T00:38:59.371Z"
   },
   {
    "duration": 630,
    "start_time": "2025-01-16T00:39:02.303Z"
   },
   {
    "duration": 5,
    "start_time": "2025-01-16T00:39:02.937Z"
   },
   {
    "duration": 402,
    "start_time": "2025-01-16T00:39:02.943Z"
   },
   {
    "duration": 3639,
    "start_time": "2025-01-16T00:39:03.347Z"
   },
   {
    "duration": 136,
    "start_time": "2025-01-16T00:39:06.989Z"
   },
   {
    "duration": 5877,
    "start_time": "2025-01-16T00:39:07.127Z"
   },
   {
    "duration": 40,
    "start_time": "2025-01-16T00:39:13.006Z"
   },
   {
    "duration": 4,
    "start_time": "2025-01-16T00:39:13.048Z"
   },
   {
    "duration": 4,
    "start_time": "2025-01-16T00:39:13.054Z"
   },
   {
    "duration": 834,
    "start_time": "2025-01-16T00:39:13.060Z"
   },
   {
    "duration": 325,
    "start_time": "2025-01-16T00:39:13.896Z"
   },
   {
    "duration": 11504,
    "start_time": "2025-01-16T00:39:14.223Z"
   },
   {
    "duration": 2297,
    "start_time": "2025-01-16T00:39:25.729Z"
   },
   {
    "duration": 4,
    "start_time": "2025-01-16T00:39:28.029Z"
   },
   {
    "duration": 11100,
    "start_time": "2025-01-16T00:39:28.034Z"
   },
   {
    "duration": 762,
    "start_time": "2025-01-16T00:39:39.136Z"
   },
   {
    "duration": 25,
    "start_time": "2025-01-16T00:39:39.900Z"
   },
   {
    "duration": 292,
    "start_time": "2025-01-16T00:39:39.926Z"
   },
   {
    "duration": 4,
    "start_time": "2025-01-16T00:39:40.220Z"
   },
   {
    "duration": 48671,
    "start_time": "2025-01-16T00:39:40.226Z"
   },
   {
    "duration": 149,
    "start_time": "2025-01-16T00:40:28.899Z"
   },
   {
    "duration": 1597,
    "start_time": "2025-01-16T00:40:29.050Z"
   },
   {
    "duration": 5,
    "start_time": "2025-01-16T00:40:30.649Z"
   },
   {
    "duration": 953,
    "start_time": "2025-01-16T00:40:30.656Z"
   },
   {
    "duration": 0,
    "start_time": "2025-01-16T00:40:31.612Z"
   },
   {
    "duration": 0,
    "start_time": "2025-01-16T00:40:31.613Z"
   },
   {
    "duration": 0,
    "start_time": "2025-01-16T00:40:31.614Z"
   },
   {
    "duration": 0,
    "start_time": "2025-01-16T00:40:31.615Z"
   },
   {
    "duration": 0,
    "start_time": "2025-01-16T00:40:31.617Z"
   },
   {
    "duration": 0,
    "start_time": "2025-01-16T00:40:31.618Z"
   },
   {
    "duration": 0,
    "start_time": "2025-01-16T00:40:31.620Z"
   },
   {
    "duration": 2632,
    "start_time": "2025-01-16T07:23:35.788Z"
   },
   {
    "duration": 12,
    "start_time": "2025-01-16T07:23:38.423Z"
   },
   {
    "duration": 3,
    "start_time": "2025-01-16T07:23:38.436Z"
   },
   {
    "duration": 740,
    "start_time": "2025-01-16T07:23:38.441Z"
   },
   {
    "duration": 12,
    "start_time": "2025-01-16T07:23:39.183Z"
   },
   {
    "duration": 165,
    "start_time": "2025-01-16T07:23:39.197Z"
   },
   {
    "duration": 23,
    "start_time": "2025-01-16T07:23:39.364Z"
   },
   {
    "duration": 21,
    "start_time": "2025-01-16T07:23:39.388Z"
   },
   {
    "duration": 41,
    "start_time": "2025-01-16T07:23:39.410Z"
   },
   {
    "duration": 7,
    "start_time": "2025-01-16T07:23:39.454Z"
   },
   {
    "duration": 24,
    "start_time": "2025-01-16T07:23:39.463Z"
   },
   {
    "duration": 2904,
    "start_time": "2025-01-16T07:23:39.488Z"
   },
   {
    "duration": 680,
    "start_time": "2025-01-16T07:23:42.394Z"
   },
   {
    "duration": 5,
    "start_time": "2025-01-16T07:23:43.076Z"
   },
   {
    "duration": 338,
    "start_time": "2025-01-16T07:23:43.083Z"
   },
   {
    "duration": 3608,
    "start_time": "2025-01-16T07:23:43.423Z"
   },
   {
    "duration": 239,
    "start_time": "2025-01-16T07:23:47.033Z"
   },
   {
    "duration": 4777,
    "start_time": "2025-01-16T07:23:47.274Z"
   },
   {
    "duration": 27,
    "start_time": "2025-01-16T07:23:52.053Z"
   },
   {
    "duration": 3,
    "start_time": "2025-01-16T07:23:52.083Z"
   },
   {
    "duration": 3,
    "start_time": "2025-01-16T07:23:52.088Z"
   },
   {
    "duration": 547,
    "start_time": "2025-01-16T07:23:52.093Z"
   },
   {
    "duration": 142,
    "start_time": "2025-01-16T07:23:52.642Z"
   },
   {
    "duration": 9403,
    "start_time": "2025-01-16T07:23:52.785Z"
   },
   {
    "duration": 2391,
    "start_time": "2025-01-16T07:24:02.190Z"
   },
   {
    "duration": 2,
    "start_time": "2025-01-16T07:24:04.583Z"
   },
   {
    "duration": 8965,
    "start_time": "2025-01-16T07:24:04.588Z"
   },
   {
    "duration": 712,
    "start_time": "2025-01-16T07:24:13.557Z"
   },
   {
    "duration": 20,
    "start_time": "2025-01-16T07:24:14.271Z"
   },
   {
    "duration": 297,
    "start_time": "2025-01-16T07:24:14.293Z"
   },
   {
    "duration": 2,
    "start_time": "2025-01-16T07:24:14.592Z"
   },
   {
    "duration": 43463,
    "start_time": "2025-01-16T07:24:14.596Z"
   },
   {
    "duration": 149,
    "start_time": "2025-01-16T07:24:58.061Z"
   },
   {
    "duration": 1408,
    "start_time": "2025-01-16T07:24:58.211Z"
   },
   {
    "duration": 10,
    "start_time": "2025-01-16T07:24:59.622Z"
   },
   {
    "duration": 70476,
    "start_time": "2025-01-16T07:24:59.634Z"
   },
   {
    "duration": 0,
    "start_time": "2025-01-16T07:26:10.112Z"
   },
   {
    "duration": 0,
    "start_time": "2025-01-16T07:26:10.113Z"
   },
   {
    "duration": 0,
    "start_time": "2025-01-16T07:26:10.114Z"
   },
   {
    "duration": 0,
    "start_time": "2025-01-16T07:26:10.116Z"
   },
   {
    "duration": 0,
    "start_time": "2025-01-16T07:26:10.131Z"
   },
   {
    "duration": 0,
    "start_time": "2025-01-16T07:26:10.132Z"
   },
   {
    "duration": 0,
    "start_time": "2025-01-16T07:26:10.135Z"
   },
   {
    "duration": 8,
    "start_time": "2025-01-16T07:28:41.966Z"
   },
   {
    "duration": 166,
    "start_time": "2025-01-17T02:18:34.888Z"
   },
   {
    "duration": 2562,
    "start_time": "2025-01-17T02:18:47.633Z"
   },
   {
    "duration": 6,
    "start_time": "2025-01-17T02:18:50.197Z"
   },
   {
    "duration": 2,
    "start_time": "2025-01-17T02:18:50.206Z"
   },
   {
    "duration": 722,
    "start_time": "2025-01-17T02:18:50.210Z"
   },
   {
    "duration": 14,
    "start_time": "2025-01-17T02:18:50.934Z"
   },
   {
    "duration": 167,
    "start_time": "2025-01-17T02:18:50.950Z"
   },
   {
    "duration": 20,
    "start_time": "2025-01-17T02:18:51.120Z"
   },
   {
    "duration": 30,
    "start_time": "2025-01-17T02:18:51.141Z"
   },
   {
    "duration": 23,
    "start_time": "2025-01-17T02:18:51.172Z"
   },
   {
    "duration": 7,
    "start_time": "2025-01-17T02:18:51.199Z"
   },
   {
    "duration": 22,
    "start_time": "2025-01-17T02:18:51.207Z"
   },
   {
    "duration": 2919,
    "start_time": "2025-01-17T02:18:51.231Z"
   },
   {
    "duration": 638,
    "start_time": "2025-01-17T02:18:54.152Z"
   },
   {
    "duration": 5,
    "start_time": "2025-01-17T02:18:54.792Z"
   },
   {
    "duration": 341,
    "start_time": "2025-01-17T02:18:54.799Z"
   },
   {
    "duration": 3605,
    "start_time": "2025-01-17T02:18:55.142Z"
   },
   {
    "duration": 228,
    "start_time": "2025-01-17T02:18:58.749Z"
   },
   {
    "duration": 4705,
    "start_time": "2025-01-17T02:18:58.979Z"
   },
   {
    "duration": 26,
    "start_time": "2025-01-17T02:19:03.687Z"
   },
   {
    "duration": 4,
    "start_time": "2025-01-17T02:19:03.714Z"
   },
   {
    "duration": 4,
    "start_time": "2025-01-17T02:19:03.720Z"
   },
   {
    "duration": 549,
    "start_time": "2025-01-17T02:19:03.725Z"
   },
   {
    "duration": 143,
    "start_time": "2025-01-17T02:19:04.276Z"
   },
   {
    "duration": 8975,
    "start_time": "2025-01-17T02:19:04.421Z"
   },
   {
    "duration": 2364,
    "start_time": "2025-01-17T02:19:13.398Z"
   },
   {
    "duration": 7,
    "start_time": "2025-01-17T02:19:15.764Z"
   },
   {
    "duration": 8418,
    "start_time": "2025-01-17T02:19:15.773Z"
   },
   {
    "duration": 628,
    "start_time": "2025-01-17T02:19:24.273Z"
   },
   {
    "duration": 19,
    "start_time": "2025-01-17T02:19:24.903Z"
   },
   {
    "duration": 296,
    "start_time": "2025-01-17T02:19:24.923Z"
   },
   {
    "duration": 3,
    "start_time": "2025-01-17T02:19:25.221Z"
   },
   {
    "duration": 40173,
    "start_time": "2025-01-17T02:19:25.226Z"
   },
   {
    "duration": 153,
    "start_time": "2025-01-17T02:20:05.401Z"
   },
   {
    "duration": 1486,
    "start_time": "2025-01-17T02:20:05.556Z"
   },
   {
    "duration": 5,
    "start_time": "2025-01-17T02:20:07.044Z"
   },
   {
    "duration": 71349,
    "start_time": "2025-01-17T02:20:07.051Z"
   },
   {
    "duration": 0,
    "start_time": "2025-01-17T02:21:18.403Z"
   },
   {
    "duration": 0,
    "start_time": "2025-01-17T02:21:18.404Z"
   },
   {
    "duration": 0,
    "start_time": "2025-01-17T02:21:18.405Z"
   },
   {
    "duration": 0,
    "start_time": "2025-01-17T02:21:18.406Z"
   },
   {
    "duration": 0,
    "start_time": "2025-01-17T02:21:18.407Z"
   },
   {
    "duration": 0,
    "start_time": "2025-01-17T02:21:18.408Z"
   },
   {
    "duration": 1,
    "start_time": "2025-01-17T02:21:18.409Z"
   },
   {
    "duration": 0,
    "start_time": "2025-01-17T02:21:18.410Z"
   },
   {
    "duration": 121,
    "start_time": "2025-01-17T02:31:20.888Z"
   },
   {
    "duration": 2,
    "start_time": "2025-01-17T02:31:55.639Z"
   },
   {
    "duration": 10,
    "start_time": "2025-01-17T02:33:15.059Z"
   },
   {
    "duration": 20,
    "start_time": "2025-01-17T02:33:25.738Z"
   },
   {
    "duration": 20,
    "start_time": "2025-01-17T02:34:13.313Z"
   },
   {
    "duration": 22,
    "start_time": "2025-01-17T02:34:22.143Z"
   },
   {
    "duration": 5,
    "start_time": "2025-01-17T02:35:04.856Z"
   },
   {
    "duration": 22,
    "start_time": "2025-01-17T02:35:22.550Z"
   },
   {
    "duration": 45196,
    "start_time": "2025-01-17T02:36:36.318Z"
   },
   {
    "duration": 8265,
    "start_time": "2025-01-17T02:37:21.517Z"
   },
   {
    "duration": 3,
    "start_time": "2025-01-17T02:45:45.304Z"
   },
   {
    "duration": 5,
    "start_time": "2025-01-17T02:46:07.402Z"
   },
   {
    "duration": 71694,
    "start_time": "2025-01-17T02:48:29.896Z"
   },
   {
    "duration": 4,
    "start_time": "2025-01-17T02:50:06.610Z"
   },
   {
    "duration": 71899,
    "start_time": "2025-01-17T02:50:08.075Z"
   },
   {
    "duration": 2594,
    "start_time": "2025-01-17T03:31:45.658Z"
   },
   {
    "duration": 6,
    "start_time": "2025-01-17T03:31:48.254Z"
   },
   {
    "duration": 2,
    "start_time": "2025-01-17T03:31:48.262Z"
   },
   {
    "duration": 753,
    "start_time": "2025-01-17T03:31:48.267Z"
   },
   {
    "duration": 14,
    "start_time": "2025-01-17T03:31:49.035Z"
   },
   {
    "duration": 151,
    "start_time": "2025-01-17T03:31:49.051Z"
   },
   {
    "duration": 22,
    "start_time": "2025-01-17T03:31:49.205Z"
   },
   {
    "duration": 25,
    "start_time": "2025-01-17T03:31:49.228Z"
   },
   {
    "duration": 27,
    "start_time": "2025-01-17T03:31:49.255Z"
   },
   {
    "duration": 7,
    "start_time": "2025-01-17T03:31:49.306Z"
   },
   {
    "duration": 23,
    "start_time": "2025-01-17T03:31:49.317Z"
   },
   {
    "duration": 2821,
    "start_time": "2025-01-17T03:31:49.341Z"
   },
   {
    "duration": 687,
    "start_time": "2025-01-17T03:31:52.164Z"
   },
   {
    "duration": 6,
    "start_time": "2025-01-17T03:31:52.853Z"
   },
   {
    "duration": 331,
    "start_time": "2025-01-17T03:31:52.861Z"
   },
   {
    "duration": 3694,
    "start_time": "2025-01-17T03:31:53.194Z"
   },
   {
    "duration": 144,
    "start_time": "2025-01-17T03:31:56.890Z"
   },
   {
    "duration": 4675,
    "start_time": "2025-01-17T03:31:57.036Z"
   },
   {
    "duration": 25,
    "start_time": "2025-01-17T03:32:01.712Z"
   },
   {
    "duration": 4,
    "start_time": "2025-01-17T03:32:01.739Z"
   },
   {
    "duration": 3,
    "start_time": "2025-01-17T03:32:01.745Z"
   },
   {
    "duration": 555,
    "start_time": "2025-01-17T03:32:01.750Z"
   },
   {
    "duration": 149,
    "start_time": "2025-01-17T03:32:02.307Z"
   },
   {
    "duration": 425,
    "start_time": "2025-01-17T03:32:02.458Z"
   },
   {
    "duration": 0,
    "start_time": "2025-01-17T03:32:02.885Z"
   },
   {
    "duration": 0,
    "start_time": "2025-01-17T03:32:02.886Z"
   },
   {
    "duration": 0,
    "start_time": "2025-01-17T03:32:02.887Z"
   },
   {
    "duration": 0,
    "start_time": "2025-01-17T03:32:02.888Z"
   },
   {
    "duration": 0,
    "start_time": "2025-01-17T03:32:02.890Z"
   },
   {
    "duration": 0,
    "start_time": "2025-01-17T03:32:02.891Z"
   },
   {
    "duration": 0,
    "start_time": "2025-01-17T03:32:02.905Z"
   },
   {
    "duration": 0,
    "start_time": "2025-01-17T03:32:02.907Z"
   },
   {
    "duration": 0,
    "start_time": "2025-01-17T03:32:02.908Z"
   },
   {
    "duration": 0,
    "start_time": "2025-01-17T03:32:02.909Z"
   },
   {
    "duration": 0,
    "start_time": "2025-01-17T03:32:02.910Z"
   },
   {
    "duration": 0,
    "start_time": "2025-01-17T03:32:02.911Z"
   },
   {
    "duration": 0,
    "start_time": "2025-01-17T03:32:02.912Z"
   },
   {
    "duration": 0,
    "start_time": "2025-01-17T03:32:02.913Z"
   },
   {
    "duration": 0,
    "start_time": "2025-01-17T03:32:02.914Z"
   },
   {
    "duration": 0,
    "start_time": "2025-01-17T03:32:02.915Z"
   },
   {
    "duration": 0,
    "start_time": "2025-01-17T03:32:02.920Z"
   },
   {
    "duration": 0,
    "start_time": "2025-01-17T03:32:02.921Z"
   },
   {
    "duration": 0,
    "start_time": "2025-01-17T03:32:02.922Z"
   },
   {
    "duration": 0,
    "start_time": "2025-01-17T03:32:02.922Z"
   },
   {
    "duration": 0,
    "start_time": "2025-01-17T03:32:02.923Z"
   },
   {
    "duration": 815,
    "start_time": "2025-01-17T03:38:40.281Z"
   },
   {
    "duration": 9,
    "start_time": "2025-01-17T03:38:41.098Z"
   },
   {
    "duration": 3,
    "start_time": "2025-01-17T03:38:41.109Z"
   },
   {
    "duration": 674,
    "start_time": "2025-01-17T03:38:41.114Z"
   },
   {
    "duration": 18,
    "start_time": "2025-01-17T03:38:41.790Z"
   },
   {
    "duration": 165,
    "start_time": "2025-01-17T03:38:41.809Z"
   },
   {
    "duration": 20,
    "start_time": "2025-01-17T03:38:41.976Z"
   },
   {
    "duration": 20,
    "start_time": "2025-01-17T03:38:42.006Z"
   },
   {
    "duration": 23,
    "start_time": "2025-01-17T03:38:42.028Z"
   },
   {
    "duration": 6,
    "start_time": "2025-01-17T03:38:42.054Z"
   },
   {
    "duration": 42,
    "start_time": "2025-01-17T03:38:42.062Z"
   },
   {
    "duration": 2884,
    "start_time": "2025-01-17T03:38:42.106Z"
   },
   {
    "duration": 659,
    "start_time": "2025-01-17T03:38:44.992Z"
   },
   {
    "duration": 6,
    "start_time": "2025-01-17T03:38:45.653Z"
   },
   {
    "duration": 387,
    "start_time": "2025-01-17T03:38:45.660Z"
   },
   {
    "duration": 3696,
    "start_time": "2025-01-17T03:38:46.048Z"
   },
   {
    "duration": 141,
    "start_time": "2025-01-17T03:38:49.746Z"
   },
   {
    "duration": 4742,
    "start_time": "2025-01-17T03:38:49.889Z"
   },
   {
    "duration": 26,
    "start_time": "2025-01-17T03:38:54.634Z"
   },
   {
    "duration": 4,
    "start_time": "2025-01-17T03:38:54.662Z"
   },
   {
    "duration": 4,
    "start_time": "2025-01-17T03:38:54.668Z"
   },
   {
    "duration": 550,
    "start_time": "2025-01-17T03:38:54.673Z"
   },
   {
    "duration": 250,
    "start_time": "2025-01-17T03:38:55.224Z"
   },
   {
    "duration": 304,
    "start_time": "2025-01-17T03:38:55.476Z"
   },
   {
    "duration": 0,
    "start_time": "2025-01-17T03:38:55.783Z"
   },
   {
    "duration": 0,
    "start_time": "2025-01-17T03:38:55.784Z"
   },
   {
    "duration": 0,
    "start_time": "2025-01-17T03:38:55.785Z"
   },
   {
    "duration": 0,
    "start_time": "2025-01-17T03:38:55.787Z"
   },
   {
    "duration": 0,
    "start_time": "2025-01-17T03:38:55.788Z"
   },
   {
    "duration": 0,
    "start_time": "2025-01-17T03:38:55.805Z"
   },
   {
    "duration": 0,
    "start_time": "2025-01-17T03:38:55.806Z"
   },
   {
    "duration": 0,
    "start_time": "2025-01-17T03:38:55.808Z"
   },
   {
    "duration": 0,
    "start_time": "2025-01-17T03:38:55.809Z"
   },
   {
    "duration": 0,
    "start_time": "2025-01-17T03:38:55.811Z"
   },
   {
    "duration": 0,
    "start_time": "2025-01-17T03:38:55.813Z"
   },
   {
    "duration": 0,
    "start_time": "2025-01-17T03:38:55.814Z"
   },
   {
    "duration": 0,
    "start_time": "2025-01-17T03:38:55.816Z"
   },
   {
    "duration": 0,
    "start_time": "2025-01-17T03:38:55.817Z"
   },
   {
    "duration": 0,
    "start_time": "2025-01-17T03:38:55.818Z"
   },
   {
    "duration": 0,
    "start_time": "2025-01-17T03:38:55.820Z"
   },
   {
    "duration": 0,
    "start_time": "2025-01-17T03:38:55.821Z"
   },
   {
    "duration": 0,
    "start_time": "2025-01-17T03:38:55.823Z"
   },
   {
    "duration": 0,
    "start_time": "2025-01-17T03:38:55.824Z"
   },
   {
    "duration": 0,
    "start_time": "2025-01-17T03:38:55.826Z"
   },
   {
    "duration": 0,
    "start_time": "2025-01-17T03:38:55.829Z"
   },
   {
    "duration": 10833,
    "start_time": "2025-01-17T03:39:23.932Z"
   },
   {
    "duration": 2444,
    "start_time": "2025-01-17T03:39:41.252Z"
   },
   {
    "duration": 8,
    "start_time": "2025-01-17T03:39:43.698Z"
   },
   {
    "duration": 245,
    "start_time": "2025-01-17T03:39:43.710Z"
   },
   {
    "duration": 8764,
    "start_time": "2025-01-17T03:39:57.155Z"
   },
   {
    "duration": 673,
    "start_time": "2025-01-17T03:40:05.922Z"
   },
   {
    "duration": 458884,
    "start_time": "2025-01-17T03:46:28.522Z"
   },
   {
    "duration": 98,
    "start_time": "2025-01-17T03:54:07.408Z"
   },
   {
    "duration": 30011,
    "start_time": "2025-01-17T03:54:07.507Z"
   },
   {
    "duration": 2619,
    "start_time": "2025-01-17T18:09:47.963Z"
   },
   {
    "duration": 6,
    "start_time": "2025-01-17T18:09:50.584Z"
   },
   {
    "duration": 2,
    "start_time": "2025-01-17T18:09:50.592Z"
   },
   {
    "duration": 767,
    "start_time": "2025-01-17T18:09:50.597Z"
   },
   {
    "duration": 14,
    "start_time": "2025-01-17T18:09:51.366Z"
   },
   {
    "duration": 166,
    "start_time": "2025-01-17T18:09:51.382Z"
   },
   {
    "duration": 21,
    "start_time": "2025-01-17T18:09:51.550Z"
   },
   {
    "duration": 18,
    "start_time": "2025-01-17T18:09:51.573Z"
   },
   {
    "duration": 23,
    "start_time": "2025-01-17T18:09:51.593Z"
   },
   {
    "duration": 7,
    "start_time": "2025-01-17T18:09:51.642Z"
   },
   {
    "duration": 22,
    "start_time": "2025-01-17T18:09:51.651Z"
   },
   {
    "duration": 2840,
    "start_time": "2025-01-17T18:09:51.675Z"
   },
   {
    "duration": 669,
    "start_time": "2025-01-17T18:09:54.517Z"
   },
   {
    "duration": 7,
    "start_time": "2025-01-17T18:09:55.188Z"
   },
   {
    "duration": 322,
    "start_time": "2025-01-17T18:09:55.197Z"
   },
   {
    "duration": 3592,
    "start_time": "2025-01-17T18:09:55.521Z"
   },
   {
    "duration": 253,
    "start_time": "2025-01-17T18:09:59.115Z"
   },
   {
    "duration": 4816,
    "start_time": "2025-01-17T18:09:59.371Z"
   },
   {
    "duration": 25,
    "start_time": "2025-01-17T18:10:04.189Z"
   },
   {
    "duration": 5,
    "start_time": "2025-01-17T18:10:04.216Z"
   },
   {
    "duration": 21,
    "start_time": "2025-01-17T18:10:04.223Z"
   },
   {
    "duration": 565,
    "start_time": "2025-01-17T18:10:04.246Z"
   },
   {
    "duration": 150,
    "start_time": "2025-01-17T18:10:04.813Z"
   },
   {
    "duration": 9641,
    "start_time": "2025-01-17T18:10:04.965Z"
   },
   {
    "duration": 2256,
    "start_time": "2025-01-17T18:10:14.608Z"
   },
   {
    "duration": 3,
    "start_time": "2025-01-17T18:10:16.867Z"
   },
   {
    "duration": 466685,
    "start_time": "2025-01-17T18:10:16.873Z"
   },
   {
    "duration": 702,
    "start_time": "2025-01-17T18:18:03.566Z"
   },
   {
    "duration": 26,
    "start_time": "2025-01-17T18:18:04.270Z"
   },
   {
    "duration": 31631,
    "start_time": "2025-01-17T18:18:04.299Z"
   },
   {
    "duration": 151,
    "start_time": "2025-01-17T18:18:35.932Z"
   },
   {
    "duration": 1458,
    "start_time": "2025-01-17T18:18:36.085Z"
   },
   {
    "duration": 4,
    "start_time": "2025-01-17T18:18:37.544Z"
   },
   {
    "duration": 5,
    "start_time": "2025-01-17T18:18:37.550Z"
   },
   {
    "duration": 4,
    "start_time": "2025-01-17T18:18:37.557Z"
   },
   {
    "duration": 991,
    "start_time": "2025-01-17T18:18:37.563Z"
   },
   {
    "duration": 0,
    "start_time": "2025-01-17T18:18:38.555Z"
   },
   {
    "duration": 0,
    "start_time": "2025-01-17T18:18:38.558Z"
   },
   {
    "duration": 0,
    "start_time": "2025-01-17T18:18:38.560Z"
   },
   {
    "duration": 0,
    "start_time": "2025-01-17T18:18:38.561Z"
   },
   {
    "duration": 0,
    "start_time": "2025-01-17T18:18:38.562Z"
   },
   {
    "duration": 0,
    "start_time": "2025-01-17T18:18:38.563Z"
   },
   {
    "duration": 0,
    "start_time": "2025-01-17T18:18:38.564Z"
   },
   {
    "duration": 0,
    "start_time": "2025-01-17T18:18:38.566Z"
   },
   {
    "duration": 6,
    "start_time": "2025-01-17T18:20:03.927Z"
   },
   {
    "duration": 73735,
    "start_time": "2025-01-17T18:20:07.382Z"
   },
   {
    "duration": 5,
    "start_time": "2025-01-17T18:22:17.828Z"
   },
   {
    "duration": 73212,
    "start_time": "2025-01-17T18:22:19.030Z"
   },
   {
    "duration": 28,
    "start_time": "2025-01-17T18:24:05.110Z"
   },
   {
    "duration": 19,
    "start_time": "2025-01-17T18:24:08.937Z"
   },
   {
    "duration": 10,
    "start_time": "2025-01-17T18:24:12.819Z"
   },
   {
    "duration": 7,
    "start_time": "2025-01-17T18:24:16.634Z"
   },
   {
    "duration": 24,
    "start_time": "2025-01-17T18:24:19.175Z"
   },
   {
    "duration": 23,
    "start_time": "2025-01-17T18:24:24.294Z"
   },
   {
    "duration": 31639,
    "start_time": "2025-01-17T18:24:27.005Z"
   },
   {
    "duration": 9,
    "start_time": "2025-01-17T18:33:33.114Z"
   },
   {
    "duration": 834,
    "start_time": "2025-01-17T18:48:58.934Z"
   },
   {
    "duration": 6,
    "start_time": "2025-01-17T18:48:59.770Z"
   },
   {
    "duration": 4,
    "start_time": "2025-01-17T18:48:59.777Z"
   },
   {
    "duration": 691,
    "start_time": "2025-01-17T18:48:59.783Z"
   },
   {
    "duration": 15,
    "start_time": "2025-01-17T18:49:00.476Z"
   },
   {
    "duration": 186,
    "start_time": "2025-01-17T18:49:00.492Z"
   },
   {
    "duration": 23,
    "start_time": "2025-01-17T18:49:00.682Z"
   },
   {
    "duration": 19,
    "start_time": "2025-01-17T18:49:00.707Z"
   },
   {
    "duration": 42,
    "start_time": "2025-01-17T18:49:00.727Z"
   },
   {
    "duration": 8,
    "start_time": "2025-01-17T18:49:00.773Z"
   },
   {
    "duration": 21,
    "start_time": "2025-01-17T18:49:00.782Z"
   },
   {
    "duration": 2927,
    "start_time": "2025-01-17T18:49:00.805Z"
   },
   {
    "duration": 658,
    "start_time": "2025-01-17T18:49:03.734Z"
   },
   {
    "duration": 5,
    "start_time": "2025-01-17T18:49:04.393Z"
   },
   {
    "duration": 395,
    "start_time": "2025-01-17T18:49:04.401Z"
   },
   {
    "duration": 3653,
    "start_time": "2025-01-17T18:49:04.798Z"
   },
   {
    "duration": 148,
    "start_time": "2025-01-17T18:49:08.453Z"
   },
   {
    "duration": 4851,
    "start_time": "2025-01-17T18:49:08.603Z"
   },
   {
    "duration": 32,
    "start_time": "2025-01-17T18:49:13.456Z"
   },
   {
    "duration": 4,
    "start_time": "2025-01-17T18:49:13.490Z"
   },
   {
    "duration": 4,
    "start_time": "2025-01-17T18:49:13.495Z"
   },
   {
    "duration": 553,
    "start_time": "2025-01-17T18:49:13.501Z"
   },
   {
    "duration": 235,
    "start_time": "2025-01-17T18:49:14.056Z"
   },
   {
    "duration": 8626,
    "start_time": "2025-01-17T18:49:14.293Z"
   },
   {
    "duration": 2188,
    "start_time": "2025-01-17T18:49:22.921Z"
   },
   {
    "duration": 3,
    "start_time": "2025-01-17T18:49:25.111Z"
   },
   {
    "duration": 463949,
    "start_time": "2025-01-17T18:49:25.116Z"
   },
   {
    "duration": 892,
    "start_time": "2025-01-17T18:57:09.150Z"
   },
   {
    "duration": 26,
    "start_time": "2025-01-17T18:57:10.044Z"
   },
   {
    "duration": 31823,
    "start_time": "2025-01-17T18:57:10.071Z"
   },
   {
    "duration": 139,
    "start_time": "2025-01-17T18:57:41.896Z"
   },
   {
    "duration": 1549,
    "start_time": "2025-01-17T18:57:42.037Z"
   },
   {
    "duration": 3,
    "start_time": "2025-01-17T18:57:43.588Z"
   },
   {
    "duration": 6,
    "start_time": "2025-01-17T18:57:43.593Z"
   },
   {
    "duration": 5,
    "start_time": "2025-01-17T18:57:43.601Z"
   },
   {
    "duration": 72847,
    "start_time": "2025-01-17T18:57:43.608Z"
   },
   {
    "duration": 0,
    "start_time": "2025-01-17T18:58:56.457Z"
   },
   {
    "duration": 0,
    "start_time": "2025-01-17T18:58:56.459Z"
   },
   {
    "duration": 0,
    "start_time": "2025-01-17T18:58:56.460Z"
   },
   {
    "duration": 0,
    "start_time": "2025-01-17T18:58:56.460Z"
   },
   {
    "duration": 0,
    "start_time": "2025-01-17T18:58:56.461Z"
   },
   {
    "duration": 0,
    "start_time": "2025-01-17T18:58:56.462Z"
   },
   {
    "duration": 0,
    "start_time": "2025-01-17T18:58:56.463Z"
   },
   {
    "duration": 0,
    "start_time": "2025-01-17T18:58:56.464Z"
   },
   {
    "duration": 156,
    "start_time": "2025-01-18T03:03:35.309Z"
   },
   {
    "duration": 2497,
    "start_time": "2025-01-18T03:12:32.176Z"
   },
   {
    "duration": 8,
    "start_time": "2025-01-18T03:12:34.675Z"
   },
   {
    "duration": 3,
    "start_time": "2025-01-18T03:12:34.684Z"
   },
   {
    "duration": 712,
    "start_time": "2025-01-18T03:12:34.689Z"
   },
   {
    "duration": 14,
    "start_time": "2025-01-18T03:12:35.403Z"
   },
   {
    "duration": 164,
    "start_time": "2025-01-18T03:12:35.419Z"
   },
   {
    "duration": 22,
    "start_time": "2025-01-18T03:12:35.585Z"
   },
   {
    "duration": 19,
    "start_time": "2025-01-18T03:12:35.610Z"
   },
   {
    "duration": 45,
    "start_time": "2025-01-18T03:12:35.630Z"
   },
   {
    "duration": 8,
    "start_time": "2025-01-18T03:12:35.679Z"
   },
   {
    "duration": 22,
    "start_time": "2025-01-18T03:12:35.688Z"
   },
   {
    "duration": 2867,
    "start_time": "2025-01-18T03:12:35.712Z"
   },
   {
    "duration": 636,
    "start_time": "2025-01-18T03:12:38.581Z"
   },
   {
    "duration": 7,
    "start_time": "2025-01-18T03:12:39.219Z"
   },
   {
    "duration": 318,
    "start_time": "2025-01-18T03:12:39.228Z"
   },
   {
    "duration": 3609,
    "start_time": "2025-01-18T03:12:39.549Z"
   },
   {
    "duration": 141,
    "start_time": "2025-01-18T03:12:43.160Z"
   },
   {
    "duration": 4692,
    "start_time": "2025-01-18T03:12:43.303Z"
   },
   {
    "duration": 26,
    "start_time": "2025-01-18T03:12:47.998Z"
   },
   {
    "duration": 4,
    "start_time": "2025-01-18T03:12:48.026Z"
   },
   {
    "duration": 5,
    "start_time": "2025-01-18T03:12:48.031Z"
   },
   {
    "duration": 552,
    "start_time": "2025-01-18T03:12:48.037Z"
   },
   {
    "duration": 141,
    "start_time": "2025-01-18T03:12:48.592Z"
   },
   {
    "duration": 9014,
    "start_time": "2025-01-18T03:12:48.735Z"
   },
   {
    "duration": 2221,
    "start_time": "2025-01-18T03:12:57.752Z"
   },
   {
    "duration": 3,
    "start_time": "2025-01-18T03:12:59.976Z"
   },
   {
    "duration": 462704,
    "start_time": "2025-01-18T03:12:59.980Z"
   },
   {
    "duration": 708,
    "start_time": "2025-01-18T03:20:42.690Z"
   },
   {
    "duration": 26,
    "start_time": "2025-01-18T03:20:43.400Z"
   },
   {
    "duration": 29923,
    "start_time": "2025-01-18T03:20:43.428Z"
   },
   {
    "duration": 170,
    "start_time": "2025-01-18T03:21:13.353Z"
   },
   {
    "duration": 1582,
    "start_time": "2025-01-18T03:21:13.524Z"
   },
   {
    "duration": 3,
    "start_time": "2025-01-18T03:21:15.108Z"
   },
   {
    "duration": 6,
    "start_time": "2025-01-18T03:21:15.112Z"
   },
   {
    "duration": 74158,
    "start_time": "2025-01-18T03:21:15.120Z"
   },
   {
    "duration": 0,
    "start_time": "2025-01-18T03:22:29.279Z"
   },
   {
    "duration": 0,
    "start_time": "2025-01-18T03:22:29.280Z"
   },
   {
    "duration": 0,
    "start_time": "2025-01-18T03:22:29.282Z"
   },
   {
    "duration": 0,
    "start_time": "2025-01-18T03:22:29.283Z"
   },
   {
    "duration": 0,
    "start_time": "2025-01-18T03:22:29.283Z"
   },
   {
    "duration": 0,
    "start_time": "2025-01-18T03:22:29.285Z"
   },
   {
    "duration": 0,
    "start_time": "2025-01-18T03:22:29.286Z"
   },
   {
    "duration": 0,
    "start_time": "2025-01-18T03:22:29.288Z"
   },
   {
    "duration": 21,
    "start_time": "2025-01-18T03:23:05.630Z"
   },
   {
    "duration": 207,
    "start_time": "2025-01-18T03:25:39.715Z"
   },
   {
    "duration": 17,
    "start_time": "2025-01-18T03:25:51.453Z"
   },
   {
    "duration": 9,
    "start_time": "2025-01-18T03:29:33.713Z"
   },
   {
    "duration": 12,
    "start_time": "2025-01-18T03:29:36.400Z"
   },
   {
    "duration": 875,
    "start_time": "2025-01-18T03:29:44.983Z"
   },
   {
    "duration": 12,
    "start_time": "2025-01-18T03:29:45.861Z"
   },
   {
    "duration": 3,
    "start_time": "2025-01-18T03:29:45.874Z"
   },
   {
    "duration": 786,
    "start_time": "2025-01-18T03:29:45.879Z"
   },
   {
    "duration": 19,
    "start_time": "2025-01-18T03:29:46.670Z"
   },
   {
    "duration": 190,
    "start_time": "2025-01-18T03:29:46.690Z"
   },
   {
    "duration": 23,
    "start_time": "2025-01-18T03:29:46.883Z"
   },
   {
    "duration": 26,
    "start_time": "2025-01-18T03:29:46.907Z"
   },
   {
    "duration": 42,
    "start_time": "2025-01-18T03:29:46.934Z"
   },
   {
    "duration": 12,
    "start_time": "2025-01-18T03:29:46.980Z"
   },
   {
    "duration": 30,
    "start_time": "2025-01-18T03:29:46.995Z"
   },
   {
    "duration": 2890,
    "start_time": "2025-01-18T03:29:47.028Z"
   },
   {
    "duration": 697,
    "start_time": "2025-01-18T03:29:49.920Z"
   },
   {
    "duration": 5,
    "start_time": "2025-01-18T03:29:50.620Z"
   },
   {
    "duration": 389,
    "start_time": "2025-01-18T03:29:50.626Z"
   },
   {
    "duration": 3585,
    "start_time": "2025-01-18T03:29:51.017Z"
   },
   {
    "duration": 173,
    "start_time": "2025-01-18T03:29:54.604Z"
   },
   {
    "duration": 4825,
    "start_time": "2025-01-18T03:29:54.780Z"
   },
   {
    "duration": 27,
    "start_time": "2025-01-18T03:29:59.607Z"
   },
   {
    "duration": 4,
    "start_time": "2025-01-18T03:29:59.636Z"
   },
   {
    "duration": 3,
    "start_time": "2025-01-18T03:29:59.644Z"
   },
   {
    "duration": 569,
    "start_time": "2025-01-18T03:29:59.648Z"
   },
   {
    "duration": 271,
    "start_time": "2025-01-18T03:30:00.218Z"
   },
   {
    "duration": 10239,
    "start_time": "2025-01-18T03:30:00.493Z"
   },
   {
    "duration": 2229,
    "start_time": "2025-01-18T03:30:10.734Z"
   },
   {
    "duration": 5,
    "start_time": "2025-01-18T03:30:12.965Z"
   },
   {
    "duration": 481209,
    "start_time": "2025-01-18T03:30:12.972Z"
   },
   {
    "duration": 919,
    "start_time": "2025-01-18T03:38:14.186Z"
   },
   {
    "duration": 24,
    "start_time": "2025-01-18T03:38:15.107Z"
   },
   {
    "duration": 34616,
    "start_time": "2025-01-18T03:38:15.133Z"
   },
   {
    "duration": 155,
    "start_time": "2025-01-18T03:38:49.751Z"
   },
   {
    "duration": 1582,
    "start_time": "2025-01-18T03:38:49.908Z"
   },
   {
    "duration": 7,
    "start_time": "2025-01-18T03:38:51.492Z"
   },
   {
    "duration": 73582,
    "start_time": "2025-01-18T03:38:51.501Z"
   },
   {
    "duration": 0,
    "start_time": "2025-01-18T03:40:05.084Z"
   },
   {
    "duration": 0,
    "start_time": "2025-01-18T03:40:05.085Z"
   },
   {
    "duration": 0,
    "start_time": "2025-01-18T03:40:05.087Z"
   },
   {
    "duration": 0,
    "start_time": "2025-01-18T03:40:05.088Z"
   },
   {
    "duration": 0,
    "start_time": "2025-01-18T03:40:05.089Z"
   },
   {
    "duration": 0,
    "start_time": "2025-01-18T03:40:05.090Z"
   },
   {
    "duration": 0,
    "start_time": "2025-01-18T03:40:05.091Z"
   },
   {
    "duration": 0,
    "start_time": "2025-01-18T03:40:05.092Z"
   },
   {
    "duration": 793,
    "start_time": "2025-01-18T05:47:09.137Z"
   },
   {
    "duration": 10,
    "start_time": "2025-01-18T05:47:09.933Z"
   },
   {
    "duration": 2,
    "start_time": "2025-01-18T05:47:09.944Z"
   },
   {
    "duration": 749,
    "start_time": "2025-01-18T05:47:09.948Z"
   },
   {
    "duration": 13,
    "start_time": "2025-01-18T05:47:10.700Z"
   },
   {
    "duration": 169,
    "start_time": "2025-01-18T05:47:10.714Z"
   },
   {
    "duration": 21,
    "start_time": "2025-01-18T05:47:10.885Z"
   },
   {
    "duration": 35,
    "start_time": "2025-01-18T05:47:10.908Z"
   },
   {
    "duration": 24,
    "start_time": "2025-01-18T05:47:10.946Z"
   },
   {
    "duration": 8,
    "start_time": "2025-01-18T05:47:10.972Z"
   },
   {
    "duration": 23,
    "start_time": "2025-01-18T05:47:10.981Z"
   },
   {
    "duration": 2823,
    "start_time": "2025-01-18T05:47:11.006Z"
   },
   {
    "duration": 615,
    "start_time": "2025-01-18T05:47:13.831Z"
   },
   {
    "duration": 5,
    "start_time": "2025-01-18T05:47:14.451Z"
   },
   {
    "duration": 378,
    "start_time": "2025-01-18T05:47:14.457Z"
   },
   {
    "duration": 3568,
    "start_time": "2025-01-18T05:47:14.842Z"
   },
   {
    "duration": 140,
    "start_time": "2025-01-18T05:47:18.412Z"
   },
   {
    "duration": 4986,
    "start_time": "2025-01-18T05:47:18.554Z"
   },
   {
    "duration": 25,
    "start_time": "2025-01-18T05:47:23.543Z"
   },
   {
    "duration": 4,
    "start_time": "2025-01-18T05:47:23.570Z"
   },
   {
    "duration": 3,
    "start_time": "2025-01-18T05:47:23.576Z"
   },
   {
    "duration": 546,
    "start_time": "2025-01-18T05:47:23.581Z"
   },
   {
    "duration": 246,
    "start_time": "2025-01-18T05:47:24.129Z"
   },
   {
    "duration": 8428,
    "start_time": "2025-01-18T05:47:24.377Z"
   },
   {
    "duration": 2161,
    "start_time": "2025-01-18T05:47:32.807Z"
   },
   {
    "duration": 3,
    "start_time": "2025-01-18T05:47:34.971Z"
   },
   {
    "duration": 453573,
    "start_time": "2025-01-18T05:47:34.976Z"
   },
   {
    "duration": 913,
    "start_time": "2025-01-18T05:55:08.551Z"
   },
   {
    "duration": 168,
    "start_time": "2025-01-18T05:55:09.466Z"
   },
   {
    "duration": 35850,
    "start_time": "2025-01-18T05:55:09.637Z"
   },
   {
    "duration": 9,
    "start_time": "2025-01-18T05:55:45.492Z"
   },
   {
    "duration": 5,
    "start_time": "2025-01-18T05:55:45.503Z"
   },
   {
    "duration": 45,
    "start_time": "2025-01-18T05:55:45.510Z"
   },
   {
    "duration": 26,
    "start_time": "2025-01-18T05:55:45.557Z"
   }
  ],
  "kernelspec": {
   "display_name": "Python 3 (ipykernel)",
   "language": "python",
   "name": "python3"
  },
  "language_info": {
   "codemirror_mode": {
    "name": "ipython",
    "version": 3
   },
   "file_extension": ".py",
   "mimetype": "text/x-python",
   "name": "python",
   "nbconvert_exporter": "python",
   "pygments_lexer": "ipython3",
   "version": "3.9.19"
  },
  "toc": {
   "base_numbering": 1,
   "nav_menu": {},
   "number_sections": true,
   "sideBar": true,
   "skip_h1_title": true,
   "title_cell": "Table of Contents",
   "title_sidebar": "Contents",
   "toc_cell": false,
   "toc_position": {},
   "toc_section_display": true,
   "toc_window_display": false
  },
  "vscode": {
   "interpreter": {
    "hash": "ac629f305345b17df6668bc9b17021b4f12075c260532782c34ed55a489bc20f"
   }
  }
 },
 "nbformat": 4,
 "nbformat_minor": 4
}
